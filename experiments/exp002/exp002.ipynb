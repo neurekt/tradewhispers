{
 "cells": [
  {
   "cell_type": "code",
   "execution_count": 1,
   "id": "28b1addc",
   "metadata": {},
   "outputs": [],
   "source": [
    "import pandas as pd\n",
    "import requests\n",
    "import time\n",
    "from pathlib import Path"
   ]
  },
  {
   "cell_type": "code",
   "execution_count": null,
   "id": "a3051180",
   "metadata": {},
   "outputs": [],
   "source": [
    "# === Config ===\n",
    "MODEL = \"model-1\"\n",
    "INPUT_FILE = \"../../data/processed/exp002.csv\"\n",
    "EVAL_FILE = \"eval.csv\"\n",
    "RESULT_FILE = \"../../results/exp002/results.csv\"\n",
    "TEMPERATURE = 0.0\n",
    "N_PER_CLASS = 50"
   ]
  },
  {
   "cell_type": "code",
   "execution_count": null,
   "id": "78293f3c",
   "metadata": {},
   "outputs": [],
   "source": [
    "# === Step 1: Prepare eval dataset (balanced) ===\n",
    "df = pd.read_csv(INPUT_FILE).dropna(subset=[\"Manchete\"])\n",
    "df_up = df[df[\"Direção\"] == \"Aumento\"].sample(n=N_PER_CLASS, random_state=42)\n",
    "df_down = df[df[\"Direção\"] == \"Diminuição\"].sample(n=N_PER_CLASS, random_state=42)\n",
    "eval_df = pd.concat([df_up, df_down]).sample(frac=1.0, random_state=42).reset_index(drop=True)\n",
    "eval_df.to_csv(EVAL_FILE, index=False)"
   ]
  },
  {
   "cell_type": "code",
   "execution_count": null,
   "id": "ca6227ac",
   "metadata": {},
   "outputs": [],
   "source": [
    "# === Step 2: Prompt generator ===\n",
    "def build_prompt(headline, timestamp):\n",
    "    return f\"\"\"Manchete: {headline}\n",
    "DataHora: {timestamp}\n",
    "\n",
    "Responda apenas com uma palavra: Aumento ou Diminuição.\"\"\""
   ]
  },
  {
   "cell_type": "code",
   "execution_count": null,
   "id": "010579f2",
   "metadata": {},
   "outputs": [],
   "source": [
    "# === Step 3: Query Ollama ===\n",
    "def query_ollama(model, prompt):\n",
    "    res = requests.post(\"http://localhost:11434/api/chat\", json={\n",
    "        \"model\": model,\n",
    "        \"temperature\": TEMPERATURE,\n",
    "        \"stream\": False,\n",
    "        \"messages\": [{\"role\": \"user\", \"content\": prompt}]\n",
    "    })\n",
    "    res.raise_for_status()\n",
    "    return res.json()[\"message\"][\"content\"].strip()"
   ]
  },
  {
   "cell_type": "code",
   "execution_count": null,
   "id": "672e89e0",
   "metadata": {},
   "outputs": [],
   "source": [
    "# === Step 4: Run prediction loop ===\n",
    "predictions = []\n",
    "for i, row in eval_df.iterrows():\n",
    "    prompt = build_prompt(row[\"Manchete\"], row[\"DataHora\"])\n",
    "    try:\n",
    "        out = query_ollama(MODEL, prompt)\n",
    "    except Exception as e:\n",
    "        out = \"Erro\"\n",
    "    predictions.append(out)\n",
    "    time.sleep(0.25)  # reduce overload risk"
   ]
  },
  {
   "cell_type": "code",
   "execution_count": null,
   "id": "8edc6224",
   "metadata": {},
   "outputs": [],
   "source": [
    "eval_df[\"Previsão\"] = predictions\n",
    "eval_df.to_csv(RESULT_FILE, index=False)\n",
    "print(f\"Saved predictions to {RESULT_FILE}\")"
   ]
  },
  {
   "cell_type": "code",
   "execution_count": 5,
   "id": "62d52a2c",
   "metadata": {},
   "outputs": [
    {
     "name": "stdout",
     "output_type": "stream",
     "text": [
      "\n",
      "Classification Report:\n",
      "\n",
      "              precision    recall  f1-score   support\n",
      "\n",
      "     Aumento      0.446     0.580     0.504        50\n",
      "  Diminuição      0.424     0.280     0.337        50\n",
      "\n",
      "   micro avg      0.439     0.430     0.434       100\n",
      "   macro avg      0.435     0.430     0.421       100\n",
      "weighted avg      0.435     0.430     0.421       100\n",
      "\n"
     ]
    }
   ],
   "source": [
    "from sklearn.metrics import classification_report\n",
    "\n",
    "# Reload the results file\n",
    "df = pd.read_csv(\"../../results/exp002/results.csv\")\n",
    "\n",
    "# Normalize predictions (just in case)\n",
    "df[\"Previsão\"] = df[\"Previsão\"].str.strip().str.capitalize()\n",
    "df[\"Direção\"] = df[\"Direção\"].str.strip().str.capitalize()\n",
    "\n",
    "# Report\n",
    "report = classification_report(\n",
    "    df[\"Direção\"], df[\"Previsão\"],\n",
    "    labels=[\"Aumento\", \"Diminuição\"],\n",
    "    target_names=[\"Aumento\", \"Diminuição\"],\n",
    "    digits=3\n",
    ")\n",
    "\n",
    "print(\"\\nClassification Report:\\n\")\n",
    "print(report)"
   ]
  },
  {
   "cell_type": "code",
   "execution_count": null,
   "id": "28c55910",
   "metadata": {},
   "outputs": [
    {
     "name": "stdout",
     "output_type": "stream",
     "text": [
      "[[29 19]\n",
      " [36 14]]\n"
     ]
    }
   ],
   "source": [
    "from sklearn.metrics import confusion_matrix\n",
    "'''\n",
    "[[TP FN]\n",
    " [FP TN]]\n",
    "'''\n",
    "cm = confusion_matrix(df[\"Direção\"], df[\"Previsão\"], labels=[\"Aumento\", \"Diminuição\"])\n",
    "print(cm)"
   ]
  }
 ],
 "metadata": {
  "kernelspec": {
   "display_name": ".venv_temp",
   "language": "python",
   "name": "python3"
  },
  "language_info": {
   "codemirror_mode": {
    "name": "ipython",
    "version": 3
   },
   "file_extension": ".py",
   "mimetype": "text/x-python",
   "name": "python",
   "nbconvert_exporter": "python",
   "pygments_lexer": "ipython3",
   "version": "3.13.2"
  }
 },
 "nbformat": 4,
 "nbformat_minor": 5
}
