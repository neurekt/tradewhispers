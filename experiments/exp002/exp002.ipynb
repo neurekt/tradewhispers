{
 "cells": [
  {
   "cell_type": "code",
   "execution_count": 1,
   "id": "28b1addc",
   "metadata": {},
   "outputs": [],
   "source": [
    "import pandas as pd\n",
    "import requests\n",
    "import time\n",
    "from pathlib import Path"
   ]
  },
  {
   "cell_type": "code",
   "execution_count": 2,
   "id": "a3051180",
   "metadata": {},
   "outputs": [],
   "source": [
    "MODEL = \"model-1\"\n",
    "EVAL_FILE = \"../../data/processed/bdm-corpus-2/stage-4/test.csv\"\n",
    "RESULT_FILE = \"../../results/exp002/results.csv\"\n",
    "TEMPERATURE = 0.0"
   ]
  },
  {
   "cell_type": "code",
   "execution_count": 3,
   "id": "a83c4900",
   "metadata": {},
   "outputs": [
    {
     "data": {
      "text/plain": [
       "400"
      ]
     },
     "execution_count": 3,
     "metadata": {},
     "output_type": "execute_result"
    }
   ],
   "source": [
    "df = pd.read_csv(EVAL_FILE)\n",
    "len(df)"
   ]
  },
  {
   "cell_type": "code",
   "execution_count": 4,
   "id": "ca6227ac",
   "metadata": {},
   "outputs": [],
   "source": [
    "def build_prompt(headline: str) -> str:\n",
    "    return (\n",
    "        f\"{headline.strip()}\\n\\n\"\n",
    "        f\"Preveja o impacto direcional na taxa de câmbio USD/BRL com uma única palavra: Aumento ou Diminuição.\"\n",
    "    )"
   ]
  },
  {
   "cell_type": "code",
   "execution_count": 5,
   "id": "010579f2",
   "metadata": {},
   "outputs": [],
   "source": [
    "# === Step 3: Query Ollama ===\n",
    "def query_ollama(model, prompt):\n",
    "    res = requests.post(\"http://localhost:11434/api/chat\", json={\n",
    "        \"model\": model,\n",
    "        \"temperature\": TEMPERATURE,\n",
    "        \"stream\": False,\n",
    "        \"messages\": [{\"role\": \"user\", \"content\": prompt}]\n",
    "    })\n",
    "    res.raise_for_status()\n",
    "    return res.json()[\"message\"][\"content\"].strip()"
   ]
  },
  {
   "cell_type": "code",
   "execution_count": 6,
   "id": "672e89e0",
   "metadata": {},
   "outputs": [],
   "source": [
    "# === Step 4: Run prediction loop ===\n",
    "predictions = []\n",
    "for i, row in df.iterrows():\n",
    "    prompt = build_prompt(row[\"Manchete\"])\n",
    "    try:\n",
    "        out = query_ollama(MODEL, prompt)\n",
    "    except Exception as e:\n",
    "        out = \"Erro\"\n",
    "    predictions.append(out)\n",
    "    time.sleep(0.25)  # reduce overload risk"
   ]
  },
  {
   "cell_type": "code",
   "execution_count": 7,
   "id": "8edc6224",
   "metadata": {},
   "outputs": [
    {
     "name": "stdout",
     "output_type": "stream",
     "text": [
      "Saved predictions to ../../results/exp002/results.csv\n"
     ]
    }
   ],
   "source": [
    "df[\"Previsão\"] = predictions\n",
    "df.to_csv(RESULT_FILE, index=False)\n",
    "print(f\"Saved predictions to {RESULT_FILE}\")"
   ]
  },
  {
   "cell_type": "code",
   "execution_count": 9,
   "id": "62d52a2c",
   "metadata": {},
   "outputs": [
    {
     "name": "stdout",
     "output_type": "stream",
     "text": [
      "\n",
      "Classification Report:\n",
      "\n",
      "              precision    recall  f1-score   support\n",
      "\n",
      "     Aumento      0.559     0.229     0.325       227\n",
      "  Diminuição      0.430     0.763     0.550       173\n",
      "\n",
      "    accuracy                          0.460       400\n",
      "   macro avg      0.495     0.496     0.438       400\n",
      "weighted avg      0.503     0.460     0.422       400\n",
      "\n"
     ]
    }
   ],
   "source": [
    "from sklearn.metrics import classification_report\n",
    "\n",
    "# Reload the results file\n",
    "df = pd.read_csv(\"../../results/exp002/results.csv\")\n",
    "\n",
    "# Normalize predictions (just in case)\n",
    "df[\"Previsão\"] = df[\"Previsão\"].str.strip().str.capitalize()\n",
    "df[\"Direção\"] = df[\"Direção\"].str.strip().str.capitalize()\n",
    "\n",
    "# Report\n",
    "report = classification_report(\n",
    "    df[\"Direção\"], df[\"Previsão\"],\n",
    "    labels=[\"Aumento\", \"Diminuição\"],\n",
    "    target_names=[\"Aumento\", \"Diminuição\"],\n",
    "    digits=3\n",
    ")\n",
    "\n",
    "print(\"\\nClassification Report:\\n\")\n",
    "print(report)"
   ]
  },
  {
   "cell_type": "code",
   "execution_count": 10,
   "id": "28c55910",
   "metadata": {},
   "outputs": [
    {
     "name": "stdout",
     "output_type": "stream",
     "text": [
      "[[ 52 175]\n",
      " [ 41 132]]\n"
     ]
    }
   ],
   "source": [
    "from sklearn.metrics import confusion_matrix\n",
    "'''\n",
    "[[TP FN]\n",
    " [FP TN]]\n",
    "'''\n",
    "cm = confusion_matrix(df[\"Direção\"], df[\"Previsão\"], labels=[\"Aumento\", \"Diminuição\"])\n",
    "print(cm)"
   ]
  }
 ],
 "metadata": {
  "kernelspec": {
   "display_name": ".venv_temp",
   "language": "python",
   "name": "python3"
  },
  "language_info": {
   "codemirror_mode": {
    "name": "ipython",
    "version": 3
   },
   "file_extension": ".py",
   "mimetype": "text/x-python",
   "name": "python",
   "nbconvert_exporter": "python",
   "pygments_lexer": "ipython3",
   "version": "3.13.2"
  }
 },
 "nbformat": 4,
 "nbformat_minor": 5
}
