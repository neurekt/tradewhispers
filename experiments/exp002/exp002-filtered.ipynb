{
 "cells": [
  {
   "cell_type": "code",
   "execution_count": 1,
   "id": "28b1addc",
   "metadata": {},
   "outputs": [],
   "source": [
    "import pandas as pd\n",
    "import requests\n",
    "import time\n",
    "from pathlib import Path"
   ]
  },
  {
   "cell_type": "code",
   "execution_count": 2,
   "id": "a3051180",
   "metadata": {},
   "outputs": [],
   "source": [
    "MODEL = \"model-1\"\n",
    "EVAL_FILE = \"../../data/processed/bdm-corpus-2/stage-5/test_filtered.csv\"\n",
    "RESULT_FILE = \"../../results/exp002/results.csv\"\n",
    "TEMPERATURE = 0.0"
   ]
  },
  {
   "cell_type": "code",
   "execution_count": 3,
   "id": "a83c4900",
   "metadata": {},
   "outputs": [
    {
     "data": {
      "text/plain": [
       "200"
      ]
     },
     "execution_count": 3,
     "metadata": {},
     "output_type": "execute_result"
    }
   ],
   "source": [
    "df = pd.read_csv(EVAL_FILE)\n",
    "len(df)"
   ]
  },
  {
   "cell_type": "code",
   "execution_count": 4,
   "id": "ca6227ac",
   "metadata": {},
   "outputs": [],
   "source": [
    "def build_prompt(headline: str) -> str:\n",
    "    return (\n",
    "        f\"{headline.strip()}\\n\\n\"\n",
    "        f\"Projetar o impacto no valor do BRL com exatamente um rótulo: 'Em alta' ou 'Em baixa'.\"\n",
    "    )"
   ]
  },
  {
   "cell_type": "code",
   "execution_count": 5,
   "id": "010579f2",
   "metadata": {},
   "outputs": [],
   "source": [
    "# === Step 3: Query Ollama ===\n",
    "def query_ollama(model, prompt):\n",
    "    res = requests.post(\"http://localhost:11434/api/chat\", json={\n",
    "        \"model\": model,\n",
    "        \"temperature\": TEMPERATURE,\n",
    "        \"stream\": False,\n",
    "        \"messages\": [{\"role\": \"user\", \"content\": prompt}]\n",
    "    })\n",
    "    res.raise_for_status()\n",
    "    return res.json()[\"message\"][\"content\"].strip()"
   ]
  },
  {
   "cell_type": "code",
   "execution_count": 7,
   "id": "672e89e0",
   "metadata": {},
   "outputs": [],
   "source": [
    "# === Step 4: Run prediction loop ===\n",
    "predictions = []\n",
    "for i, row in df.iterrows():\n",
    "    prompt = build_prompt(row[\"Headline\"])\n",
    "    try:\n",
    "        out = query_ollama(MODEL, prompt)\n",
    "    except Exception as e:\n",
    "        out = \"Erro\"\n",
    "    predictions.append(out)\n",
    "    time.sleep(0.25)  # reduce overload risk"
   ]
  },
  {
   "cell_type": "code",
   "execution_count": 18,
   "id": "d4cc4c4b",
   "metadata": {},
   "outputs": [],
   "source": [
    "import re\n",
    "predictions = [\n",
    "    re.sub(r'\\s*\\n+.*$', '', p.strip().lstrip(\"'\\\"\").rstrip(\"'\\\"\").strip())\n",
    "    for p in predictions\n",
    "]"
   ]
  },
  {
   "cell_type": "code",
   "execution_count": 19,
   "id": "d60c8fcb",
   "metadata": {},
   "outputs": [
    {
     "data": {
      "text/plain": [
       "['Em alta',\n",
       " 'Em alta',\n",
       " 'Em alta',\n",
       " 'Em alta',\n",
       " 'Em alta',\n",
       " 'Em baixa',\n",
       " 'Em alta',\n",
       " 'Em alta',\n",
       " 'Em baixa',\n",
       " 'Em baixa',\n",
       " 'Em alta',\n",
       " 'Em alta',\n",
       " 'Em alta',\n",
       " 'Em baixa',\n",
       " 'Em alta',\n",
       " 'Em baixa',\n",
       " 'Em baixa',\n",
       " 'Em alta',\n",
       " 'Em baixa',\n",
       " 'Em alta',\n",
       " 'Em alta',\n",
       " 'Em alta',\n",
       " 'Em alta',\n",
       " 'Em baixa',\n",
       " 'Em baixa',\n",
       " 'Em baixa',\n",
       " 'Em alta',\n",
       " 'Em baixa',\n",
       " 'Em alta',\n",
       " 'Em alta',\n",
       " 'Em alta',\n",
       " 'Em alta',\n",
       " 'Em baixa',\n",
       " 'Em baixa',\n",
       " 'Em baixa',\n",
       " 'Em alta',\n",
       " 'Em alta',\n",
       " 'Em baixa',\n",
       " 'Em alta',\n",
       " 'Em alta',\n",
       " 'Em alta',\n",
       " 'Em alta',\n",
       " 'Em alta',\n",
       " 'Em baixa',\n",
       " 'Em alta',\n",
       " 'Em alta',\n",
       " 'Em alta',\n",
       " 'Em baixa',\n",
       " 'Em baixa',\n",
       " 'Em alta',\n",
       " 'Em alta',\n",
       " 'Em alta',\n",
       " 'Em baixa',\n",
       " 'Em alta',\n",
       " 'Em alta',\n",
       " 'Em alta',\n",
       " 'Em alta',\n",
       " 'Em alta',\n",
       " 'Em baixa',\n",
       " 'Em alta',\n",
       " 'Em alta',\n",
       " 'Em alta',\n",
       " 'Em alta',\n",
       " 'Em alta',\n",
       " 'Em alta',\n",
       " 'Em baixa',\n",
       " 'Em alta',\n",
       " 'Em alta',\n",
       " 'Em alta',\n",
       " 'Em alta',\n",
       " 'Em alta',\n",
       " 'Em alta',\n",
       " 'Em alta',\n",
       " 'Em baixa',\n",
       " 'Em alta',\n",
       " 'Em baixa',\n",
       " 'Em alta',\n",
       " 'Em baixa',\n",
       " 'Em alta',\n",
       " 'Em baixa',\n",
       " 'Em alta',\n",
       " 'Em baixa',\n",
       " 'Em baixa',\n",
       " 'Em alta',\n",
       " 'Em baixa',\n",
       " 'Em baixa',\n",
       " 'Em baixa',\n",
       " 'Em baixa',\n",
       " 'Em alta',\n",
       " 'Em baixa',\n",
       " 'Em baixa',\n",
       " 'Em alta',\n",
       " 'Em alta',\n",
       " 'Em baixa',\n",
       " 'Em alta',\n",
       " 'Em baixa',\n",
       " 'Em alta',\n",
       " 'Em alta',\n",
       " 'Em alta',\n",
       " 'Em baixa',\n",
       " 'Em alta',\n",
       " 'Em alta',\n",
       " 'Em baixa',\n",
       " 'Em baixa',\n",
       " 'Em alta',\n",
       " 'Em baixa',\n",
       " 'Em baixa',\n",
       " 'Em alta',\n",
       " 'Em alta',\n",
       " 'Em baixa',\n",
       " 'Em alta',\n",
       " 'Em alta',\n",
       " 'Em alta',\n",
       " 'Em baixa',\n",
       " 'Em alta',\n",
       " 'Em alta',\n",
       " 'Em baixa',\n",
       " 'Em alta',\n",
       " 'Em alta',\n",
       " 'Em alta',\n",
       " 'Em alta',\n",
       " 'Em alta',\n",
       " 'Em alta',\n",
       " 'Em alta',\n",
       " 'Em alta',\n",
       " 'Em alta',\n",
       " 'Em alta',\n",
       " 'Em alta',\n",
       " 'Em baixa',\n",
       " 'Em alta',\n",
       " 'Em baixa',\n",
       " 'Em alta',\n",
       " 'Em alta',\n",
       " 'Em alta',\n",
       " 'Em alta',\n",
       " 'Em baixa',\n",
       " 'Em alta',\n",
       " 'Em alta',\n",
       " 'Em alta',\n",
       " 'Em baixa',\n",
       " 'Em baixa',\n",
       " 'Em alta',\n",
       " 'Em alta',\n",
       " 'Em alta',\n",
       " 'Em alta',\n",
       " 'Em alta',\n",
       " 'Em alta',\n",
       " 'Em baixa',\n",
       " 'Em alta',\n",
       " 'Em alta',\n",
       " 'Em alta',\n",
       " 'Em alta',\n",
       " 'Em baixa',\n",
       " 'Em alta',\n",
       " 'Em alta',\n",
       " 'Em baixa',\n",
       " 'Em alta',\n",
       " 'Em alta',\n",
       " 'Em baixa',\n",
       " 'Em alta',\n",
       " 'Em alta',\n",
       " 'Em alta',\n",
       " 'Em alta',\n",
       " 'Em alta',\n",
       " 'Em alta',\n",
       " 'Em alta',\n",
       " 'Em alta',\n",
       " 'Em baixa',\n",
       " 'Em alta',\n",
       " 'Em alta',\n",
       " 'Em baixa',\n",
       " 'Em baixa',\n",
       " 'Em alta',\n",
       " 'Em alta',\n",
       " 'Em baixa',\n",
       " 'Em alta',\n",
       " 'Em alta',\n",
       " 'Em alta',\n",
       " 'Em alta',\n",
       " 'Em alta',\n",
       " 'Em baixa',\n",
       " 'Em alta',\n",
       " 'Em baixa',\n",
       " 'Em baixa',\n",
       " 'Em alta',\n",
       " 'Em alta',\n",
       " 'Em alta',\n",
       " 'Em baixa',\n",
       " 'Em alta',\n",
       " 'Em alta',\n",
       " 'Em alta',\n",
       " 'Em baixa',\n",
       " 'Em alta',\n",
       " 'Em baixa',\n",
       " 'Em alta',\n",
       " 'Em alta',\n",
       " 'Em alta',\n",
       " 'Em alta',\n",
       " 'Em alta',\n",
       " 'Em alta']"
      ]
     },
     "execution_count": 19,
     "metadata": {},
     "output_type": "execute_result"
    }
   ],
   "source": [
    "predictions"
   ]
  },
  {
   "cell_type": "code",
   "execution_count": 20,
   "id": "8edc6224",
   "metadata": {},
   "outputs": [
    {
     "name": "stdout",
     "output_type": "stream",
     "text": [
      "Saved predictions to ../../results/exp002/results.csv\n"
     ]
    }
   ],
   "source": [
    "df[\"Prediction\"] = predictions\n",
    "df.to_csv(RESULT_FILE, index=False)\n",
    "print(f\"Saved predictions to {RESULT_FILE}\")"
   ]
  },
  {
   "cell_type": "markdown",
   "id": "9805d631",
   "metadata": {},
   "source": [
    "### Predictions"
   ]
  },
  {
   "cell_type": "code",
   "execution_count": null,
   "id": "62d52a2c",
   "metadata": {},
   "outputs": [
    {
     "name": "stdout",
     "output_type": "stream",
     "text": [
      "\n",
      "Classification Report:\n",
      "\n",
      "              precision    recall  f1-score   support\n",
      "\n",
      "    Increase      0.645     0.331     0.437       121\n",
      "    Decrease      0.413     0.722     0.525        79\n",
      "\n",
      "    accuracy                          0.485       200\n",
      "   macro avg      0.529     0.526     0.481       200\n",
      "weighted avg      0.553     0.485     0.472       200\n",
      "\n"
     ]
    }
   ],
   "source": [
    "from sklearn.metrics import classification_report\n",
    "\n",
    "# Reload the results file\n",
    "df = pd.read_csv(\"../../results/exp002/results_filtered.csv\")\n",
    "\n",
    "df['Prediction'] = df['Prediction'].map({\n",
    "    'Em baixa': 'Increase',\n",
    "    'Em alta': 'Decrease'\n",
    "})\n",
    "\n",
    "# Report\n",
    "report = classification_report(\n",
    "    df[\"Direction\"], df[\"Prediction\"],\n",
    "    labels=[\"Increase\", \"Decrease\"],\n",
    "    target_names=[\"Increase\", \"Decrease\"],\n",
    "    digits=3\n",
    ")\n",
    "\n",
    "print(\"\\nClassification Report:\\n\")\n",
    "print(report)"
   ]
  },
  {
   "cell_type": "code",
   "execution_count": null,
   "id": "28c55910",
   "metadata": {},
   "outputs": [
    {
     "name": "stdout",
     "output_type": "stream",
     "text": [
      "[[ 79 150]\n",
      " [ 46 125]]\n"
     ]
    }
   ],
   "source": [
    "from sklearn.metrics import confusion_matrix\n",
    "'''\n",
    "[[TP FN]\n",
    " [FP TN]]\n",
    "'''\n",
    "cm = confusion_matrix(df[\"Direction\"], df[\"Prediction\"], labels=[\"Increase\", \"Decrease\"])\n",
    "print(cm)"
   ]
  }
 ],
 "metadata": {
  "kernelspec": {
   "display_name": ".venv_temp",
   "language": "python",
   "name": "python3"
  },
  "language_info": {
   "codemirror_mode": {
    "name": "ipython",
    "version": 3
   },
   "file_extension": ".py",
   "mimetype": "text/x-python",
   "name": "python",
   "nbconvert_exporter": "python",
   "pygments_lexer": "ipython3",
   "version": "3.13.2"
  }
 },
 "nbformat": 4,
 "nbformat_minor": 5
}
