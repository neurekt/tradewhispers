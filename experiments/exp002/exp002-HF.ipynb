{
 "cells": [
  {
   "cell_type": "markdown",
   "id": "9d64036d",
   "metadata": {},
   "source": [
    "## exp005\n",
    "Testing Llama3.1-instruct via API via Hugging Face Transformers library\n",
    "new prompts and token gen reqs set prior to generating a response\n",
    "new labels (impact on brazil economy: 2 labels good/bad for brasil)"
   ]
  },
  {
   "cell_type": "code",
   "execution_count": null,
   "id": "486eed1f",
   "metadata": {},
   "outputs": [],
   "source": [
    "import pandas as pd\n",
    "\n",
    "df = pd.read_csv(\"../../results/exp005/results.csv\")\n",
    "df = df[df['Previsão'].isin(['Brasil positivo', 'Brasil negativo'])]\n",
    "df = df.reset_index(drop=True)\n",
    "df['Previsão'] = df['Previsão'].map({\n",
    "    'Brasil positivo': 'Aumento',\n",
    "    'Brasil negativo': 'Diminuição'\n",
    "})\n",
    "df = df.drop(columns=['text'])"
   ]
  },
  {
   "cell_type": "code",
   "execution_count": 1,
   "id": "3b047958",
   "metadata": {},
   "outputs": [],
   "source": [
    "import pandas as pd\n",
    "df = pd.read_csv(\"../../results/exp005/results.csv\")\n",
    "df = df.drop(columns=['text'])\n",
    "df.to_csv(\"../../results/exp005/results.csv\", index=False)"
   ]
  },
  {
   "cell_type": "code",
   "execution_count": 9,
   "id": "5c4f3b4a",
   "metadata": {},
   "outputs": [
    {
     "name": "stdout",
     "output_type": "stream",
     "text": [
      "[[ 79 148]\n",
      " [ 73 100]]\n"
     ]
    }
   ],
   "source": [
    "from sklearn.metrics import confusion_matrix\n",
    "'''\n",
    "[[TP FN]\n",
    " [FP TN]]\n",
    "'''\n",
    "cm = confusion_matrix(df[\"Direção\"], df[\"Previsão\"], labels=[\"Aumento\", \"Diminuição\"])\n",
    "print(cm)"
   ]
  },
  {
   "cell_type": "code",
   "execution_count": 10,
   "id": "4ee5dcca",
   "metadata": {},
   "outputs": [
    {
     "name": "stdout",
     "output_type": "stream",
     "text": [
      "\n",
      "Classification Report:\n",
      "\n",
      "              precision    recall  f1-score   support\n",
      "\n",
      "     Aumento      0.520     0.348     0.417       227\n",
      "  Diminuição      0.403     0.578     0.475       173\n",
      "\n",
      "    accuracy                          0.448       400\n",
      "   macro avg      0.461     0.463     0.446       400\n",
      "weighted avg      0.469     0.448     0.442       400\n",
      "\n"
     ]
    }
   ],
   "source": [
    "from sklearn.metrics import classification_report\n",
    "\n",
    "# Normalize predictions (just in case)\n",
    "df[\"Previsão\"] = df[\"Previsão\"].str.strip().str.capitalize()\n",
    "df[\"Direção\"] = df[\"Direção\"].str.strip().str.capitalize()\n",
    "\n",
    "# Report\n",
    "report = classification_report(\n",
    "    df[\"Direção\"], df[\"Previsão\"],\n",
    "    labels=[\"Aumento\", \"Diminuição\"],\n",
    "    target_names=[\"Aumento\", \"Diminuição\"],\n",
    "    digits=3\n",
    ")\n",
    "\n",
    "print(\"\\nClassification Report:\\n\")\n",
    "print(report)"
   ]
  }
 ],
 "metadata": {
  "kernelspec": {
   "display_name": ".venv_temp",
   "language": "python",
   "name": "python3"
  },
  "language_info": {
   "codemirror_mode": {
    "name": "ipython",
    "version": 3
   },
   "file_extension": ".py",
   "mimetype": "text/x-python",
   "name": "python",
   "nbconvert_exporter": "python",
   "pygments_lexer": "ipython3",
   "version": "3.13.2"
  }
 },
 "nbformat": 4,
 "nbformat_minor": 5
}
