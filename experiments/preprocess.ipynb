{
 "cells": [
  {
   "cell_type": "markdown",
   "id": "3fd9e6f2",
   "metadata": {},
   "source": [
    "### Preprocessing"
   ]
  },
  {
   "cell_type": "code",
   "execution_count": 2,
   "id": "f6d32c47",
   "metadata": {},
   "outputs": [],
   "source": [
    "import pandas as pd\n",
    "import numpy as np\n",
    "from dateutil import parser"
   ]
  },
  {
   "cell_type": "markdown",
   "id": "4320e67b",
   "metadata": {},
   "source": [
    "## News Data Preprocessing"
   ]
  },
  {
   "cell_type": "markdown",
   "id": "42ad4d94",
   "metadata": {},
   "source": [
    "Bom Dia Mercado (BDM) → xlsx file with BDM articles and more → preprocessing to CSV → export to repository → final dataset"
   ]
  },
  {
   "cell_type": "code",
   "execution_count": null,
   "id": "a3f47c58",
   "metadata": {},
   "outputs": [],
   "source": [
    "# load\n",
    "news_df = pd.read_excel(\"../data/raw/bdm-corpus-2.xlsx\")\n",
    "\n",
    "# Normalize individual DATE and TIME cells\n",
    "def parse_datetime_components(date_cell, time_cell):\n",
    "    try:\n",
    "        # Coerce both to string and strip spaces\n",
    "        date_str = str(date_cell).strip()\n",
    "        time_str = str(time_cell).strip()\n",
    "        \n",
    "        # Combine and parse flexibly\n",
    "        dt = parser.parse(f\"{date_str} {time_str}\", dayfirst=True)\n",
    "        return dt.isoformat()\n",
    "    except Exception:\n",
    "        return pd.NaT  # mark invalid rows\n",
    "\n",
    "# Create ISO 8601 Timestamp column\n",
    "news_df['Timestamp'] = news_df.apply(lambda row: parse_datetime_components(row['DATE'], row['TIME']), axis=1)\n",
    "news_df['Timestamp'] = pd.to_datetime(news_df['Timestamp'], errors='coerce')\n",
    "\n",
    "# Drop old columns\n",
    "news_df.drop(columns=['DATE', 'TIME', 'Index', 'DIRECTION', 'BRER', 'LABEL'], inplace=True)\n",
    "\n",
    "# Clean newlines in ARTICLE CONTENT and COMMENTS\n",
    "for col in ['HEADING', 'ARTICLE CONTENT', 'COMMENTS']:\n",
    "    if col in news_df.columns:\n",
    "        news_df[col] = news_df[col].astype(str).str.replace(r'[\\r\\n]+', ' ', regex=True).str.strip()\n",
    "\n",
    "# Reorder columns\n",
    "news_df = news_df[['Timestamp'] + [col for col in news_df.columns if col != 'Timestamp']]\n",
    "\n",
    "# Rename \"HEADING\" to \"Headline\" \"ARTICLE CONTENT\" to \"Article\" and \"COMMENTS\" to \"Comments\"\n",
    "news_df.rename(columns={\n",
    "    'HEADING': 'Headline',\n",
    "    'ARTICLE CONTENT': 'Article',\n",
    "    'COMMENTS': 'Comments'\n",
    "}, inplace=True)\n",
    "\n",
    "# save\n",
    "news_df.to_csv(\"../data/interim/bdm-corpus-2.csv\", index=False, encoding='utf-8-sig')"
   ]
  },
  {
   "cell_type": "markdown",
   "id": "3506b239",
   "metadata": {},
   "source": [
    "### Check for invalid rows (rows with no headlines) and drop them"
   ]
  },
  {
   "cell_type": "code",
   "execution_count": 3,
   "id": "830aa006",
   "metadata": {},
   "outputs": [
    {
     "name": "stdout",
     "output_type": "stream",
     "text": [
      "6 invalid rows found in 'Headline' column.\n"
     ]
    },
    {
     "data": {
      "text/html": [
       "<div>\n",
       "<style scoped>\n",
       "    .dataframe tbody tr th:only-of-type {\n",
       "        vertical-align: middle;\n",
       "    }\n",
       "\n",
       "    .dataframe tbody tr th {\n",
       "        vertical-align: top;\n",
       "    }\n",
       "\n",
       "    .dataframe thead th {\n",
       "        text-align: right;\n",
       "    }\n",
       "</style>\n",
       "<table border=\"1\" class=\"dataframe\">\n",
       "  <thead>\n",
       "    <tr style=\"text-align: right;\">\n",
       "      <th></th>\n",
       "      <th>Timestamp</th>\n",
       "      <th>Headline</th>\n",
       "      <th>Article</th>\n",
       "      <th>Comments</th>\n",
       "    </tr>\n",
       "  </thead>\n",
       "  <tbody>\n",
       "    <tr>\n",
       "      <th>2332</th>\n",
       "      <td>2024-12-16 09:02:00</td>\n",
       "      <td>NaN</td>\n",
       "      <td>NaN</td>\n",
       "      <td>NaN</td>\n",
       "    </tr>\n",
       "    <tr>\n",
       "      <th>4299</th>\n",
       "      <td>2025-01-10 12:14:00</td>\n",
       "      <td>NaN</td>\n",
       "      <td>NaN</td>\n",
       "      <td>NaN</td>\n",
       "    </tr>\n",
       "    <tr>\n",
       "      <th>4302</th>\n",
       "      <td>2025-01-10 12:14:00</td>\n",
       "      <td>NaN</td>\n",
       "      <td>NaN</td>\n",
       "      <td>NaN</td>\n",
       "    </tr>\n",
       "    <tr>\n",
       "      <th>4306</th>\n",
       "      <td>2025-01-10 12:18:00</td>\n",
       "      <td>NaN</td>\n",
       "      <td>NaN</td>\n",
       "      <td>NaN</td>\n",
       "    </tr>\n",
       "    <tr>\n",
       "      <th>4367</th>\n",
       "      <td>2025-01-10 15:58:00</td>\n",
       "      <td>NaN</td>\n",
       "      <td>NaN</td>\n",
       "      <td>NaN</td>\n",
       "    </tr>\n",
       "    <tr>\n",
       "      <th>4372</th>\n",
       "      <td>2025-01-10 15:59:00</td>\n",
       "      <td>NaN</td>\n",
       "      <td>NaN</td>\n",
       "      <td>NaN</td>\n",
       "    </tr>\n",
       "  </tbody>\n",
       "</table>\n",
       "</div>"
      ],
      "text/plain": [
       "                Timestamp Headline Article Comments\n",
       "2332  2024-12-16 09:02:00      NaN     NaN      NaN\n",
       "4299  2025-01-10 12:14:00      NaN     NaN      NaN\n",
       "4302  2025-01-10 12:14:00      NaN     NaN      NaN\n",
       "4306  2025-01-10 12:18:00      NaN     NaN      NaN\n",
       "4367  2025-01-10 15:58:00      NaN     NaN      NaN\n",
       "4372  2025-01-10 15:59:00      NaN     NaN      NaN"
      ]
     },
     "metadata": {},
     "output_type": "display_data"
    }
   ],
   "source": [
    "news_df = pd.read_csv(\"../data/interim/bdm-corpus-2.csv\", encoding='utf-8-sig') # reload as csv to ensure correct encoding\n",
    "\n",
    "invalid_rows = news_df[news_df['Headline'].isna()]\n",
    "print(f\"{len(invalid_rows)} invalid rows found in 'Headline' column.\")\n",
    "display(invalid_rows)"
   ]
  },
  {
   "cell_type": "code",
   "execution_count": 4,
   "id": "ed35e39e",
   "metadata": {},
   "outputs": [],
   "source": [
    "# drop rows with invalid headlines and resave\n",
    "news_df = news_df.dropna(subset=['Headline'])\n",
    "news_df.to_csv(\"../data/interim/bdm-corpus-2.csv\", index=False, encoding='utf-8-sig')"
   ]
  },
  {
   "cell_type": "markdown",
   "id": "b16a43be",
   "metadata": {},
   "source": [
    "## Exchange Rate Preprocessing"
   ]
  },
  {
   "cell_type": "markdown",
   "id": "0d7c9b77",
   "metadata": {},
   "source": [
    "Bloomberg → Download USD/BRL exchange rates as excel file → preprocess to CSV → export to repository → final dataset"
   ]
  },
  {
   "cell_type": "code",
   "execution_count": null,
   "id": "2a2ae1b2",
   "metadata": {},
   "outputs": [],
   "source": [
    "# Step 0: Load \n",
    "df_usd_brl = pd.read_excel(\"../data/raw/usd-brl.xlsx\")\n",
    "\n",
    "# Step 1: Clean column names\n",
    "df_usd_brl.columns = [col.strip() for col in df_usd_brl.columns]\n",
    "df_usd_brl.rename(columns={\"Date\": \"Raw Timestamp\", \"Último preço\": \"USD/BRL\"}, inplace=True)\n",
    "\n",
    "# Step 2: Parse \"Raw Timestamp\" directly into pandas datetime (no ISO string conversion)\n",
    "df_usd_brl[\"Timestamp\"] = pd.to_datetime(df_usd_brl[\"Raw Timestamp\"], errors=\"coerce\")\n",
    "\n",
    "# Step 3: Drop the original column\n",
    "df_usd_brl.drop(columns=[\"Raw Timestamp\"], inplace=True)\n",
    "\n",
    "# Step 4: Reorder columns\n",
    "df_usd_brl = df_usd_brl[[\"Timestamp\", \"USD/BRL\"]]\n",
    "\n",
    "# Step 5: Save\n",
    "df_usd_brl.to_csv(\"../data/interim/usd-brl.csv\", index=False, encoding=\"utf-8-sig\")"
   ]
  },
  {
   "cell_type": "code",
   "execution_count": 6,
   "id": "3083ec9c",
   "metadata": {},
   "outputs": [],
   "source": [
    "# Load new datasets\n",
    "bdm_df = pd.read_csv(\"../data/interim/bdm-corpus-2.csv\", parse_dates=['Timestamp'])\n",
    "fx_df = pd.read_csv(\"../data/interim/usd-brl.csv\", parse_dates=['Timestamp'])"
   ]
  },
  {
   "cell_type": "code",
   "execution_count": 7,
   "id": "df615adc",
   "metadata": {},
   "outputs": [
    {
     "name": "stdout",
     "output_type": "stream",
     "text": [
      "Found 5929 duplicate timestamps.\n",
      "Removed duplicate timestamps.\n",
      "Set 'Timestamp' as index and sorted chronologically.\n",
      "Forward-filled missing minute-level timestamps.\n",
      "Timestamps are now continuous and minute-by-minute. No gaps remain.\n"
     ]
    }
   ],
   "source": [
    "# check how many duplicate timestamps there are\n",
    "num_duplicates = fx_df.duplicated(subset=\"Timestamp\").sum()\n",
    "print(f\"Found {num_duplicates} duplicate timestamps.\")\n",
    "\n",
    "# remove duplicate timestamps (keep first occurrence)\n",
    "fx_df = fx_df.drop_duplicates(subset=\"Timestamp\", keep=\"first\")\n",
    "print(\"Removed duplicate timestamps.\")\n",
    "\n",
    "# set timestamp index and sort\n",
    "fx_df = fx_df.set_index(\"Timestamp\").sort_index()\n",
    "print(\"Set 'Timestamp' as index and sorted chronologically.\")\n",
    "\n",
    "# forward fill missing timestamps to create continuous minute-level series\n",
    "fx_df = fx_df.resample(\"1min\").ffill()\n",
    "print(\"Forward-filled missing minute-level timestamps.\")\n",
    "\n",
    "# verify that the dataframe is now fully continuous\n",
    "expected_index = pd.date_range(start=fx_df.index.min(), end=fx_df.index.max(), freq=\"1min\")\n",
    "missing_timestamps = expected_index.difference(fx_df.index)\n",
    "\n",
    "if missing_timestamps.empty:\n",
    "    print(\"Timestamps are now continuous and minute-by-minute. No gaps remain.\")\n",
    "else:\n",
    "    print(f\"{len(missing_timestamps)} missing timestamps still remain:\")\n",
    "    print(missing_timestamps[:10])  # preview first 10 missing"
   ]
  },
  {
   "cell_type": "code",
   "execution_count": null,
   "id": "ad85ca7d",
   "metadata": {},
   "outputs": [],
   "source": [
    "# save\n",
    "fx_df.to_csv(\"../data/interim/usd-brl-continuous.csv\", index=True, encoding='utf-8-sig')"
   ]
  },
  {
   "cell_type": "markdown",
   "id": "4a4e1bbb",
   "metadata": {},
   "source": [
    "## exp001 Dataset"
   ]
  },
  {
   "cell_type": "code",
   "execution_count": null,
   "id": "959af05a",
   "metadata": {},
   "outputs": [],
   "source": [
    "'''\n",
    "Dataset Creation Process for Experiment 1\n",
    "  - remove all rows following the last timestamp in the interim/brl-corpus-2.csv at 2024-12-30 17:32:00\n",
    "  - remove article and comments columns from interim/brl-corpus-2.csv\n",
    "  - merge the USD/BRL values from interim/usd-brl-continuous.csv into interim/brl-corpus-2.csv by matching timestamps\n",
    "  - compute forward returns based on the prediction horizon t+1 to t+20 minutes\n",
    "    - positive returns will map to +1, negative returns will map to -1, and no change will map to 0\n",
    "    - each computed forward return will be stored in a new column named \"Forward Return t+X\" where X is the number of minutes ahead\n",
    "  - the function will return a new DataFrame with the merged data and forward returns\n",
    "  - save the new DataFrame to a CSV file named \"exp001.csv\"\n",
    "'''"
   ]
  },
  {
   "cell_type": "code",
   "execution_count": 1,
   "id": "3a04b248",
   "metadata": {},
   "outputs": [
    {
     "name": "stdout",
     "output_type": "stream",
     "text": [
      "Number of rows in merged dataset: 3519\n"
     ]
    }
   ],
   "source": [
    "import pandas as pd\n",
    "import numpy as np\n",
    "\n",
    "# Load datasets\n",
    "fx_df = pd.read_csv(\"../data/interim/usd-brl-continuous.csv\", parse_dates=[\"Timestamp\"])\n",
    "news_df = pd.read_csv(\"../data/interim/bdm-corpus-2.csv\", parse_dates=[\"Timestamp\"])\n",
    "\n",
    "# Restrict news to timestamps before cutoff\n",
    "last_timestamp = pd.to_datetime(\"2024-12-30 17:32:00\")\n",
    "news_df = news_df[news_df[\"Timestamp\"] <= last_timestamp]\n",
    "\n",
    "# Keep only timestamp and headline\n",
    "news_df = news_df[[\"Timestamp\", \"Headline\"]]\n",
    "\n",
    "# --- Compute forward returns within fx_df ---\n",
    "def compute_forward_returns(df, horizon_minutes=20):\n",
    "    df = df.copy()\n",
    "    for i in range(1, horizon_minutes + 1):\n",
    "        col = f\"Forward Return t+{i}\"\n",
    "        delta = df[\"USD/BRL\"].shift(-i) - df[\"USD/BRL\"]\n",
    "        df[col] = np.sign(delta)  # Maps to -1, 0, or 1\n",
    "    return df\n",
    "\n",
    "fx_df = compute_forward_returns(fx_df)\n",
    "\n",
    "# --- Merge the forward returns into news_df ---\n",
    "merged_df = pd.merge(news_df, fx_df, on=\"Timestamp\", how=\"left\")\n",
    "\n",
    "# Report row count\n",
    "print(f\"Number of rows in merged dataset: {len(merged_df)}\")\n",
    "\n",
    "# Save processed dataset\n",
    "merged_df.to_csv(\"../data/processed/exp001.csv\", index=False, encoding=\"utf-8-sig\")"
   ]
  },
  {
   "cell_type": "markdown",
   "id": "81f95d0f",
   "metadata": {},
   "source": [
    "## exp002"
   ]
  },
  {
   "cell_type": "code",
   "execution_count": null,
   "id": "479409dd",
   "metadata": {},
   "outputs": [],
   "source": [
    "'''\n",
    "Experiment 2 Dataset Creation Process:\n",
    "- remove all t+X forward returns EXCEPT t+5\n",
    "    - t+5 minutes showed the most promising results, as t+4...t+20 showed less bias towards no change (impact takes some minutes)\n",
    "- rename t+5 forward return to ground truth\n",
    "- remove usd/brl column, as it's not needed for this since the ground truth delta is already calculated\n",
    "\n",
    "Intraday Trading Sessions: Remove all rows with headlines released outside of market hours (mostly weekends in our data)\n",
    "    - Mention it's intraday news in the prompt\n",
    "    - Intraday: news from 5 minutes before market open till 5 minutes before market close\n",
    "    - For news at end of trading day, the price change is determined by the last trading price (not always t+5), very few instances of this\n",
    "    - 54 headlines (rows) were removed as they were either neutral or took place on weekends\n",
    "    - I'd rather keep this a binary classification task and let the \"hold\" be determined by the trader based on profits or num of trades\n",
    "\n",
    "'''"
   ]
  },
  {
   "cell_type": "code",
   "execution_count": 4,
   "id": "809eacdf",
   "metadata": {},
   "outputs": [],
   "source": [
    "df = pd.read_csv(\"../data/processed/exp001.csv\", parse_dates=['Timestamp'])\n",
    "prices = pd.read_csv(\"../data/interim/usd-brl.csv\", parse_dates=['Timestamp'])"
   ]
  },
  {
   "cell_type": "code",
   "execution_count": null,
   "id": "f80de578",
   "metadata": {},
   "outputs": [],
   "source": [
    "# --- Filter by trading days only ---\n",
    "valid_dates = set(prices[\"Timestamp\"].dt.date.unique())\n",
    "\n",
    "def is_trading_day(ts):\n",
    "    return ts.date() in valid_dates\n",
    "\n",
    "df = df[df[\"Timestamp\"].apply(is_trading_day)]\n",
    "\n",
    "# --- Drop USD/BRL column if it exists ---\n",
    "df.drop(columns=[\"USD/BRL\"], errors=\"ignore\", inplace=True)\n",
    "\n",
    "# --- Extract and rename the t+5 forward return column ---\n",
    "t5_col = [col for col in df.columns if \"t+5\" in col and \"forward return\" in col.lower()]\n",
    "if t5_col:\n",
    "    df = df[[\"Timestamp\", \"Headline\", t5_col[0]]]\n",
    "    df.rename(columns={t5_col[0]: \"Direction\"}, inplace=True)\n",
    "\n",
    "    # --- Map numeric values to direction labels ---\n",
    "    df[\"Direction\"] = df[\"Direction\"].replace({1.0: \"Increase\", -1.0: \"Decrease\", 0.0: \"Stable\"})\n",
    "\n",
    "    # --- Drop rows where direction is Stable ---\n",
    "    df = df[df[\"Direction\"] != \"Stable\"]"
   ]
  },
  {
   "cell_type": "code",
   "execution_count": 4,
   "id": "c7b9642b",
   "metadata": {},
   "outputs": [],
   "source": [
    "# --- Rename columns and translate labels to Brazilian Portuguese ---\n",
    "df.rename(columns={\n",
    "    \"Timestamp\": \"DataHora\",\n",
    "    \"Headline\": \"Manchete\",\n",
    "    \"Direction\": \"Direção\"\n",
    "}, inplace=True)\n",
    "\n",
    "df[\"Direção\"] = df[\"Direção\"].replace({\n",
    "    \"Increase\": \"Aumento\",\n",
    "    \"Decrease\": \"Diminuição\"\n",
    "})\n",
    "\n",
    "df.to_csv(\"../data/processed/exp002.csv\", index=False, encoding=\"utf-8-sig\")"
   ]
  }
 ],
 "metadata": {
  "kernelspec": {
   "display_name": ".venv_temp",
   "language": "python",
   "name": "python3"
  },
  "language_info": {
   "codemirror_mode": {
    "name": "ipython",
    "version": 3
   },
   "file_extension": ".py",
   "mimetype": "text/x-python",
   "name": "python",
   "nbconvert_exporter": "python",
   "pygments_lexer": "ipython3",
   "version": "3.13.2"
  }
 },
 "nbformat": 4,
 "nbformat_minor": 5
}
