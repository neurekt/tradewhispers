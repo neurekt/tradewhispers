{
 "cells": [
  {
   "cell_type": "markdown",
   "id": "0a4ab881",
   "metadata": {},
   "source": [
    "# exp003\n",
    "Fine-tuning LLaMA3.1 8b instruct w/ LoRA (PEFT) via ~3057 labeled headlines\n",
    "https://colab.research.google.com/drive/1m5--orgqdnCUtSKUGH4WR1CZ_UB7FkPP?usp=sharing"
   ]
  }
 ],
 "metadata": {
  "kernelspec": {
   "display_name": ".venv_temp",
   "language": "python",
   "name": "python3"
  },
  "language_info": {
   "codemirror_mode": {
    "name": "ipython",
    "version": 3
   },
   "file_extension": ".py",
   "mimetype": "text/x-python",
   "name": "python",
   "nbconvert_exporter": "python",
   "pygments_lexer": "ipython3",
   "version": "3.13.2"
  }
 },
 "nbformat": 4,
 "nbformat_minor": 5
}
