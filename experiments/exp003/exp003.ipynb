{
 "cells": [
  {
   "cell_type": "code",
   "execution_count": 1,
   "id": "294d650b",
   "metadata": {},
   "outputs": [],
   "source": [
    "import pandas as pd\n",
    "import requests\n",
    "import time\n",
    "from pathlib import Path"
   ]
  },
  {
   "cell_type": "code",
   "execution_count": 2,
   "id": "33d23166",
   "metadata": {},
   "outputs": [],
   "source": [
    "# === Config ===\n",
    "MODEL = \"model-1\"\n",
    "EVAL_FILE = \"../../data/processed/bdm-corpus-2/stage-4/test.csv\"\n",
    "TRAIN_FILE = \"../../data/processed/bdm-corpus-2/stage-4/train.csv\" # grab 6 examples for few shot\n",
    "RESULT_FILE = \"../../results/exp003/results.csv\"\n",
    "TEMPERATURE = 0.0"
   ]
  },
  {
   "cell_type": "code",
   "execution_count": 3,
   "id": "125772f0",
   "metadata": {},
   "outputs": [],
   "source": [
    "test_df = pd.read_csv(EVAL_FILE)\n",
    "train_df = pd.read_csv(TRAIN_FILE)"
   ]
  },
  {
   "cell_type": "code",
   "execution_count": 4,
   "id": "3623a97f",
   "metadata": {},
   "outputs": [],
   "source": [
    "# sample and sort few-shot examples, all occur chronologically before test set\n",
    "fewshot_up = train_df[train_df[\"Direção\"] == \"Aumento\"].sample(n=3, random_state=1)\n",
    "fewshot_down = train_df[train_df[\"Direção\"] == \"Diminuição\"].sample(n=3, random_state=1)\n",
    "fewshot_df = pd.concat([fewshot_up, fewshot_down]).copy()\n",
    "fewshot_df[\"DataHora\"] = pd.to_datetime(fewshot_df[\"DataHora\"])\n",
    "fewshot_df = fewshot_df.sort_values(\"DataHora\").reset_index(drop=True)"
   ]
  },
  {
   "cell_type": "code",
   "execution_count": 5,
   "id": "74043b3a",
   "metadata": {},
   "outputs": [],
   "source": [
    "# Format few-shot block\n",
    "def format_example(row):\n",
    "    return f\"\"\"Manchete: {row['Manchete']}\n",
    "Resposta: {row['Direção']}\"\"\"\n",
    "\n",
    "FEWSHOT_BLOCK = \"\\n\\n\".join(format_example(row) for _, row in fewshot_df.iterrows())"
   ]
  },
  {
   "cell_type": "code",
   "execution_count": 6,
   "id": "72ff86eb",
   "metadata": {},
   "outputs": [],
   "source": [
    "# Build prompt for each headline\n",
    "def build_fewshot_prompt(headline):\n",
    "    return f\"\"\"{FEWSHOT_BLOCK}\n",
    "\n",
    "    Preveja o impacto de curto prazo no USD/BRL:\n",
    "\n",
    "    Manchete: {headline}\n",
    "\n",
    "    Responda apenas com uma palavra: Aumento ou Diminuição.\"\"\""
   ]
  },
  {
   "cell_type": "code",
   "execution_count": 7,
   "id": "4b5eadcd",
   "metadata": {},
   "outputs": [],
   "source": [
    "# Query Ollama\n",
    "def query_ollama(model, prompt):\n",
    "    res = requests.post(\"http://localhost:11434/api/chat\", json={\n",
    "        \"model\": model,\n",
    "        \"temperature\": TEMPERATURE,\n",
    "        \"stream\": False,\n",
    "        \"messages\": [{\"role\": \"user\", \"content\": prompt}]\n",
    "    })\n",
    "    res.raise_for_status()\n",
    "    return res.json()[\"message\"][\"content\"].strip()"
   ]
  },
  {
   "cell_type": "code",
   "execution_count": 8,
   "id": "f99bf9c8",
   "metadata": {},
   "outputs": [],
   "source": [
    "# Run inference\n",
    "predictions = []\n",
    "for i, row in test_df.iterrows():\n",
    "    prompt = build_fewshot_prompt(row[\"Manchete\"])\n",
    "    try:\n",
    "        out = query_ollama(MODEL, prompt)\n",
    "    except Exception:\n",
    "        out = \"Erro\"\n",
    "    predictions.append(out)\n",
    "    time.sleep(0.25)"
   ]
  },
  {
   "cell_type": "code",
   "execution_count": 9,
   "id": "556ab6c9",
   "metadata": {},
   "outputs": [
    {
     "name": "stdout",
     "output_type": "stream",
     "text": [
      "✅ Saved predictions to ../../results/exp003/results.csv\n"
     ]
    }
   ],
   "source": [
    "test_df[\"Previsão\"] = predictions\n",
    "test_df.to_csv(RESULT_FILE, index=False)\n",
    "print(f\"✅ Saved predictions to {RESULT_FILE}\")"
   ]
  },
  {
   "cell_type": "code",
   "execution_count": 10,
   "id": "d1316262",
   "metadata": {},
   "outputs": [
    {
     "name": "stdout",
     "output_type": "stream",
     "text": [
      "\n",
      "Classification Report:\n",
      "\n",
      "              precision    recall  f1-score   support\n",
      "\n",
      "     Aumento      0.547     0.612     0.578       227\n",
      "  Diminuição      0.397     0.335     0.364       173\n",
      "\n",
      "    accuracy                          0.492       400\n",
      "   macro avg      0.472     0.474     0.471       400\n",
      "weighted avg      0.482     0.492     0.485       400\n",
      "\n"
     ]
    }
   ],
   "source": [
    "from sklearn.metrics import classification_report\n",
    "\n",
    "# Reload the results file\n",
    "preds = pd.read_csv(\"../../results/exp003/results.csv\")\n",
    "\n",
    "# Normalize predictions (just in case)\n",
    "preds[\"Previsão\"] = preds[\"Previsão\"].str.strip().str.capitalize()\n",
    "preds[\"Direção\"] = preds[\"Direção\"].str.strip().str.capitalize()\n",
    "\n",
    "# Report\n",
    "report = classification_report(\n",
    "    preds[\"Direção\"], preds[\"Previsão\"],\n",
    "    labels=[\"Aumento\", \"Diminuição\"],\n",
    "    target_names=[\"Aumento\", \"Diminuição\"],\n",
    "    digits=3\n",
    ")\n",
    "\n",
    "print(\"\\nClassification Report:\\n\")\n",
    "print(report)"
   ]
  },
  {
   "cell_type": "code",
   "execution_count": 14,
   "id": "7593f399",
   "metadata": {},
   "outputs": [
    {
     "name": "stdout",
     "output_type": "stream",
     "text": [
      "[[139  88]\n",
      " [115  58]]\n"
     ]
    }
   ],
   "source": [
    "from sklearn.metrics import confusion_matrix\n",
    "'''\n",
    "[[TP FN]\n",
    " [FP TN]]\n",
    "'''\n",
    "cm = confusion_matrix(test_df[\"Direção\"], test_df[\"Previsão\"], labels=[\"Aumento\", \"Diminuição\"])\n",
    "print(cm)"
   ]
  }
 ],
 "metadata": {
  "kernelspec": {
   "display_name": ".venv_temp",
   "language": "python",
   "name": "python3"
  },
  "language_info": {
   "codemirror_mode": {
    "name": "ipython",
    "version": 3
   },
   "file_extension": ".py",
   "mimetype": "text/x-python",
   "name": "python",
   "nbconvert_exporter": "python",
   "pygments_lexer": "ipython3",
   "version": "3.13.2"
  }
 },
 "nbformat": 4,
 "nbformat_minor": 5
}
