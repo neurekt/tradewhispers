{
 "cells": [
  {
   "cell_type": "markdown",
   "id": "0a4ab881",
   "metadata": {},
   "source": [
    "### exp004 - fine-tuning LLaMA3.1 8b instruct w/ LoRA (PEFT) via ~3057 labeled headlines\n",
    "https://colab.research.google.com/drive/1m5--orgqdnCUtSKUGH4WR1CZ_UB7FkPP?usp=sharing"
   ]
  },
  {
   "cell_type": "code",
   "execution_count": 2,
   "id": "486eed1f",
   "metadata": {},
   "outputs": [],
   "source": [
    "import pandas as pd\n",
    "df = pd.read_csv(\"../../results/exp004/results.csv\")"
   ]
  },
  {
   "cell_type": "code",
   "execution_count": 3,
   "id": "5c4f3b4a",
   "metadata": {},
   "outputs": [
    {
     "name": "stdout",
     "output_type": "stream",
     "text": [
      "[[129  98]\n",
      " [102  71]]\n"
     ]
    }
   ],
   "source": [
    "from sklearn.metrics import confusion_matrix\n",
    "'''\n",
    "[[TP FN]\n",
    " [FP TN]]\n",
    "'''\n",
    "cm = confusion_matrix(df[\"Direção\"], df[\"Prediction\"], labels=[\"Aumento\", \"Diminuição\"])\n",
    "print(cm)"
   ]
  },
  {
   "cell_type": "code",
   "execution_count": 4,
   "id": "4ee5dcca",
   "metadata": {},
   "outputs": [
    {
     "name": "stdout",
     "output_type": "stream",
     "text": [
      "\n",
      "Classification Report:\n",
      "\n",
      "              precision    recall  f1-score   support\n",
      "\n",
      "     Aumento      0.558     0.568     0.563       227\n",
      "  Diminuição      0.420     0.410     0.415       173\n",
      "\n",
      "    accuracy                          0.500       400\n",
      "   macro avg      0.489     0.489     0.489       400\n",
      "weighted avg      0.499     0.500     0.499       400\n",
      "\n"
     ]
    }
   ],
   "source": [
    "from sklearn.metrics import classification_report\n",
    "\n",
    "# Normalize predictions (just in case)\n",
    "df[\"Prediction\"] = df[\"Prediction\"].str.strip().str.capitalize()\n",
    "df[\"Direção\"] = df[\"Direção\"].str.strip().str.capitalize()\n",
    "\n",
    "# Report\n",
    "report = classification_report(\n",
    "    df[\"Direção\"], df[\"Prediction\"],\n",
    "    labels=[\"Aumento\", \"Diminuição\"],\n",
    "    target_names=[\"Aumento\", \"Diminuição\"],\n",
    "    digits=3\n",
    ")\n",
    "\n",
    "print(\"\\nClassification Report:\\n\")\n",
    "print(report)"
   ]
  }
 ],
 "metadata": {
  "kernelspec": {
   "display_name": ".venv_temp",
   "language": "python",
   "name": "python3"
  },
  "language_info": {
   "codemirror_mode": {
    "name": "ipython",
    "version": 3
   },
   "file_extension": ".py",
   "mimetype": "text/x-python",
   "name": "python",
   "nbconvert_exporter": "python",
   "pygments_lexer": "ipython3",
   "version": "3.13.2"
  }
 },
 "nbformat": 4,
 "nbformat_minor": 5
}
