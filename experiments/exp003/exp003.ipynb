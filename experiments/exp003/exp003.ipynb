{
 "cells": [
  {
   "cell_type": "code",
   "execution_count": null,
   "id": "294d650b",
   "metadata": {},
   "outputs": [],
   "source": [
    "import pandas as pd\n",
    "import requests\n",
    "import time\n",
    "from pathlib import Path"
   ]
  },
  {
   "cell_type": "code",
   "execution_count": null,
   "id": "33d23166",
   "metadata": {},
   "outputs": [],
   "source": [
    "# === Config ===\n",
    "MODEL = \"model-1\"\n",
    "INPUT_FILE = \"../../data/processed/exp003.csv\"\n",
    "EVAL_FILE = \"eval.csv\"\n",
    "RESULT_FILE = \"../../results/exp003/results.csv\"\n",
    "TEMPERATURE = 0.0\n",
    "N_PER_CLASS = 50"
   ]
  },
  {
   "cell_type": "code",
   "execution_count": null,
   "id": "125772f0",
   "metadata": {},
   "outputs": [],
   "source": [
    "# === Step 1: Load data ===\n",
    "df = pd.read_csv(INPUT_FILE).dropna(subset=[\"Manchete\"])"
   ]
  },
  {
   "cell_type": "code",
   "execution_count": null,
   "id": "3623a97f",
   "metadata": {},
   "outputs": [],
   "source": [
    "# === Step 2: Sample few-shot examples (3) ===\n",
    "fewshot_up = df[df[\"Direção\"] == \"Aumento\"].sample(n=2, random_state=1)\n",
    "fewshot_down = df[df[\"Direção\"] == \"Diminuição\"].sample(n=1, random_state=1)\n",
    "fewshot_df = pd.concat([fewshot_up, fewshot_down])\n",
    "fewshot_indices = fewshot_df.index"
   ]
  },
  {
   "cell_type": "code",
   "execution_count": null,
   "id": "49fa9f3f",
   "metadata": {},
   "outputs": [],
   "source": [
    "# === Step 3: Exclude few-shot examples from eval set ===\n",
    "df_eval = df.drop(index=fewshot_indices)"
   ]
  },
  {
   "cell_type": "code",
   "execution_count": null,
   "id": "1cf73e68",
   "metadata": {},
   "outputs": [],
   "source": [
    "# === Step 4: Sample balanced evaluation set ===\n",
    "df_up = df_eval[df_eval[\"Direção\"] == \"Aumento\"].sample(n=N_PER_CLASS, random_state=42)\n",
    "df_down = df_eval[df_eval[\"Direção\"] == \"Diminuição\"].sample(n=N_PER_CLASS, random_state=42)\n",
    "eval_df = pd.concat([df_up, df_down]).sample(frac=1.0, random_state=42).reset_index(drop=True)\n",
    "eval_df.to_csv(EVAL_FILE, index=False)"
   ]
  },
  {
   "cell_type": "code",
   "execution_count": null,
   "id": "74043b3a",
   "metadata": {},
   "outputs": [],
   "source": [
    "# === Step 5: Format few-shot block ===\n",
    "def format_example(row):\n",
    "    return f\"\"\"Manchete: {row['Manchete']}\n",
    "DataHora: {row['DataHora']}\n",
    "Resposta: {row['Direção']}\"\"\"\n",
    "\n",
    "FEWSHOT_BLOCK = \"\\n\\n\".join(format_example(row) for _, row in fewshot_df.iterrows())"
   ]
  },
  {
   "cell_type": "code",
   "execution_count": null,
   "id": "72ff86eb",
   "metadata": {},
   "outputs": [],
   "source": [
    "# === Step 6: Build prompt for each headline ===\n",
    "def build_fewshot_prompt(headline, timestamp):\n",
    "    return f\"\"\"{FEWSHOT_BLOCK}\n",
    "\n",
    "Agora classifique a seguinte manchete:\n",
    "\n",
    "Manchete: {headline}\n",
    "DataHora: {timestamp}\n",
    "\n",
    "Responda apenas com uma palavra: Aumento ou Diminuição.\"\"\""
   ]
  },
  {
   "cell_type": "code",
   "execution_count": null,
   "id": "4b5eadcd",
   "metadata": {},
   "outputs": [],
   "source": [
    "# === Step 7: Query Ollama ===\n",
    "def query_ollama(model, prompt):\n",
    "    res = requests.post(\"http://localhost:11434/api/chat\", json={\n",
    "        \"model\": model,\n",
    "        \"temperature\": TEMPERATURE,\n",
    "        \"stream\": False,\n",
    "        \"messages\": [{\"role\": \"user\", \"content\": prompt}]\n",
    "    })\n",
    "    res.raise_for_status()\n",
    "    return res.json()[\"message\"][\"content\"].strip()"
   ]
  },
  {
   "cell_type": "code",
   "execution_count": null,
   "id": "f99bf9c8",
   "metadata": {},
   "outputs": [],
   "source": [
    "# === Step 8: Run inference ===\n",
    "predictions = []\n",
    "for i, row in eval_df.iterrows():\n",
    "    prompt = build_fewshot_prompt(row[\"Manchete\"], row[\"DataHora\"])\n",
    "    try:\n",
    "        out = query_ollama(MODEL, prompt)\n",
    "    except Exception:\n",
    "        out = \"Erro\"\n",
    "    predictions.append(out)\n",
    "    time.sleep(0.25)"
   ]
  },
  {
   "cell_type": "code",
   "execution_count": null,
   "id": "556ab6c9",
   "metadata": {},
   "outputs": [],
   "source": [
    "eval_df[\"Previsão\"] = predictions\n",
    "eval_df.to_csv(RESULT_FILE, index=False)\n",
    "print(f\"✅ Saved predictions to {RESULT_FILE}\")"
   ]
  },
  {
   "cell_type": "code",
   "execution_count": null,
   "id": "d1316262",
   "metadata": {},
   "outputs": [],
   "source": [
    "from sklearn.metrics import classification_report\n",
    "\n",
    "# Reload the results file\n",
    "df = pd.read_csv(\"results.csv\")\n",
    "\n",
    "# Normalize predictions (just in case)\n",
    "df[\"Previsão\"] = df[\"Previsão\"].str.strip().str.capitalize()\n",
    "df[\"Direção\"] = df[\"Direção\"].str.strip().str.capitalize()\n",
    "\n",
    "# Report\n",
    "report = classification_report(\n",
    "    df[\"Direção\"], df[\"Previsão\"],\n",
    "    labels=[\"Aumento\", \"Diminuição\"],\n",
    "    target_names=[\"Aumento\", \"Diminuição\"],\n",
    "    digits=3\n",
    ")\n",
    "\n",
    "print(\"\\nClassification Report:\\n\")\n",
    "print(report)"
   ]
  }
 ],
 "metadata": {
  "language_info": {
   "name": "python"
  }
 },
 "nbformat": 4,
 "nbformat_minor": 5
}
