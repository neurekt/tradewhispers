{
 "cells": [
  {
   "cell_type": "code",
   "execution_count": 26,
   "id": "294d650b",
   "metadata": {},
   "outputs": [],
   "source": [
    "import pandas as pd\n",
    "import requests\n",
    "import time\n",
    "from pathlib import Path"
   ]
  },
  {
   "cell_type": "code",
   "execution_count": 27,
   "id": "33d23166",
   "metadata": {},
   "outputs": [],
   "source": [
    "# === Config ===\n",
    "MODEL = \"model-1\"\n",
    "EVAL_FILE = \"../../data/processed/bdm-corpus-2/stage-3/test.csv\"\n",
    "TRAIN_FILE = \"../../data/processed/bdm-corpus-2/stage-3/train.csv\" # grab 6 examples for few shot\n",
    "RESULT_FILE = \"../../results/exp003/results.csv\"\n",
    "TEMPERATURE = 0.0"
   ]
  },
  {
   "cell_type": "code",
   "execution_count": null,
   "id": "125772f0",
   "metadata": {},
   "outputs": [],
   "source": [
    "eval_df = pd.read_csv(EVAL_FILE)\n",
    "shot_df = pd.read_csv(TRAIN_FILE)"
   ]
  },
  {
   "cell_type": "code",
   "execution_count": null,
   "id": "3623a97f",
   "metadata": {},
   "outputs": [
    {
     "data": {
      "text/html": [
       "<div>\n",
       "<style scoped>\n",
       "    .dataframe tbody tr th:only-of-type {\n",
       "        vertical-align: middle;\n",
       "    }\n",
       "\n",
       "    .dataframe tbody tr th {\n",
       "        vertical-align: top;\n",
       "    }\n",
       "\n",
       "    .dataframe thead th {\n",
       "        text-align: right;\n",
       "    }\n",
       "</style>\n",
       "<table border=\"1\" class=\"dataframe\">\n",
       "  <thead>\n",
       "    <tr style=\"text-align: right;\">\n",
       "      <th></th>\n",
       "      <th>DataHora</th>\n",
       "      <th>Manchete</th>\n",
       "      <th>Direção</th>\n",
       "    </tr>\n",
       "  </thead>\n",
       "  <tbody>\n",
       "    <tr>\n",
       "      <th>2553</th>\n",
       "      <td>2024-12-19 14:32:00</td>\n",
       "      <td>Itaú BBA reforça recomendação de compra para I...</td>\n",
       "      <td>Aumento</td>\n",
       "    </tr>\n",
       "    <tr>\n",
       "      <th>1357</th>\n",
       "      <td>2024-12-06 17:00:00</td>\n",
       "      <td>MERCADOS: Petróleo recua após decisão da Opep ...</td>\n",
       "      <td>Aumento</td>\n",
       "    </tr>\n",
       "    <tr>\n",
       "      <th>1221</th>\n",
       "      <td>2024-12-05 16:11:00</td>\n",
       "      <td>Nomeação de novo primeiro-ministro ocorrerá no...</td>\n",
       "      <td>Aumento</td>\n",
       "    </tr>\n",
       "    <tr>\n",
       "      <th>383</th>\n",
       "      <td>2024-11-27 15:22:00</td>\n",
       "      <td>Isenção do IR até R$ 5 mil teria efeito fiscal...</td>\n",
       "      <td>Diminuição</td>\n",
       "    </tr>\n",
       "    <tr>\n",
       "      <th>744</th>\n",
       "      <td>2024-12-02 11:17:00</td>\n",
       "      <td>Emendas de relator, por exemplo, podem ser ret...</td>\n",
       "      <td>Diminuição</td>\n",
       "    </tr>\n",
       "    <tr>\n",
       "      <th>179</th>\n",
       "      <td>2024-11-25 16:51:00</td>\n",
       "      <td>WTI para janeiro recua 3,23%, a US$ 68,94 por ...</td>\n",
       "      <td>Diminuição</td>\n",
       "    </tr>\n",
       "  </tbody>\n",
       "</table>\n",
       "</div>"
      ],
      "text/plain": [
       "                 DataHora                                           Manchete  \\\n",
       "2553  2024-12-19 14:32:00  Itaú BBA reforça recomendação de compra para I...   \n",
       "1357  2024-12-06 17:00:00  MERCADOS: Petróleo recua após decisão da Opep ...   \n",
       "1221  2024-12-05 16:11:00  Nomeação de novo primeiro-ministro ocorrerá no...   \n",
       "383   2024-11-27 15:22:00  Isenção do IR até R$ 5 mil teria efeito fiscal...   \n",
       "744   2024-12-02 11:17:00  Emendas de relator, por exemplo, podem ser ret...   \n",
       "179   2024-11-25 16:51:00  WTI para janeiro recua 3,23%, a US$ 68,94 por ...   \n",
       "\n",
       "         Direção  \n",
       "2553     Aumento  \n",
       "1357     Aumento  \n",
       "1221     Aumento  \n",
       "383   Diminuição  \n",
       "744   Diminuição  \n",
       "179   Diminuição  "
      ]
     },
     "metadata": {},
     "output_type": "display_data"
    }
   ],
   "source": [
    "# Sample few-shot examples (6)\n",
    "fewshot_up = shot_df[shot_df[\"Direção\"] == \"Aumento\"].sample(n=3, random_state=1) # prompts are reproducible with seed 1\n",
    "fewshot_down = shot_df[shot_df[\"Direção\"] == \"Diminuição\"].sample(n=3, random_state=1)\n",
    "fewshot_df = pd.concat([fewshot_up, fewshot_down])\n",
    "\n",
    "display(fewshot_df)\n",
    "\n",
    "# === Step 2: Sample few-shot examples (6) ===\n",
    "fewshot_up = eval_df[eval_df[\"Direção\"] == \"Aumento\"].sample(n=3, random_state=1)\n",
    "fewshot_down = eval_df[eval_df[\"Direção\"] == \"Diminuição\"].sample(n=3, random_state=1)\n",
    "fewshot_df = pd.concat([fewshot_up, fewshot_down])\n",
    "fewshot_indices = fewshot_df.index"
   ]
  },
  {
   "cell_type": "code",
   "execution_count": 31,
   "id": "74043b3a",
   "metadata": {},
   "outputs": [],
   "source": [
    "# Format few-shot block\n",
    "def format_example(row):\n",
    "    return f\"\"\"Manchete: {row['Manchete']}\n",
    "Resposta: {row['Direção']}\"\"\"\n",
    "\n",
    "FEWSHOT_BLOCK = \"\\n\\n\".join(format_example(row) for _, row in fewshot_df.iterrows())"
   ]
  },
  {
   "cell_type": "code",
   "execution_count": 32,
   "id": "72ff86eb",
   "metadata": {},
   "outputs": [],
   "source": [
    "# Build prompt for each headline\n",
    "def build_fewshot_prompt(headline):\n",
    "    return f\"\"\"{FEWSHOT_BLOCK}\n",
    "\n",
    "    Preveja o impacto de curto prazo no USD/BRL:\n",
    "\n",
    "    Manchete: {headline}\n",
    "\n",
    "    Responda apenas com uma palavra: Aumento ou Diminuição.\"\"\""
   ]
  },
  {
   "cell_type": "code",
   "execution_count": 33,
   "id": "4b5eadcd",
   "metadata": {},
   "outputs": [],
   "source": [
    "# Query Ollama\n",
    "def query_ollama(model, prompt):\n",
    "    res = requests.post(\"http://localhost:11434/api/chat\", json={\n",
    "        \"model\": model,\n",
    "        \"temperature\": TEMPERATURE,\n",
    "        \"stream\": False,\n",
    "        \"messages\": [{\"role\": \"user\", \"content\": prompt}]\n",
    "    })\n",
    "    res.raise_for_status()\n",
    "    return res.json()[\"message\"][\"content\"].strip()"
   ]
  },
  {
   "cell_type": "code",
   "execution_count": 34,
   "id": "f99bf9c8",
   "metadata": {},
   "outputs": [],
   "source": [
    "# Run inference\n",
    "predictions = []\n",
    "for i, row in eval_df.iterrows():\n",
    "    prompt = build_fewshot_prompt(row[\"Manchete\"])\n",
    "    try:\n",
    "        out = query_ollama(MODEL, prompt)\n",
    "    except Exception:\n",
    "        out = \"Erro\"\n",
    "    predictions.append(out)\n",
    "    time.sleep(0.25)"
   ]
  },
  {
   "cell_type": "code",
   "execution_count": 35,
   "id": "556ab6c9",
   "metadata": {},
   "outputs": [
    {
     "name": "stdout",
     "output_type": "stream",
     "text": [
      "✅ Saved predictions to ../../results/exp003/results.csv\n"
     ]
    }
   ],
   "source": [
    "eval_df[\"Previsão\"] = predictions\n",
    "eval_df.to_csv(RESULT_FILE, index=False)\n",
    "print(f\"✅ Saved predictions to {RESULT_FILE}\")"
   ]
  },
  {
   "cell_type": "code",
   "execution_count": 36,
   "id": "d1316262",
   "metadata": {},
   "outputs": [
    {
     "name": "stdout",
     "output_type": "stream",
     "text": [
      "\n",
      "Classification Report:\n",
      "\n",
      "              precision    recall  f1-score   support\n",
      "\n",
      "     Aumento      0.508     0.910     0.652       200\n",
      "  Diminuição      0.571     0.120     0.198       200\n",
      "\n",
      "    accuracy                          0.515       400\n",
      "   macro avg      0.540     0.515     0.425       400\n",
      "weighted avg      0.540     0.515     0.425       400\n",
      "\n"
     ]
    }
   ],
   "source": [
    "from sklearn.metrics import classification_report\n",
    "\n",
    "# Reload the results file\n",
    "preds = pd.read_csv(\"../../results/exp003/results.csv\")\n",
    "\n",
    "# Normalize predictions (just in case)\n",
    "preds[\"Previsão\"] = preds[\"Previsão\"].str.strip().str.capitalize()\n",
    "preds[\"Direção\"] = preds[\"Direção\"].str.strip().str.capitalize()\n",
    "\n",
    "# Report\n",
    "report = classification_report(\n",
    "    preds[\"Direção\"], preds[\"Previsão\"],\n",
    "    labels=[\"Aumento\", \"Diminuição\"],\n",
    "    target_names=[\"Aumento\", \"Diminuição\"],\n",
    "    digits=3\n",
    ")\n",
    "\n",
    "print(\"\\nClassification Report:\\n\")\n",
    "print(report)"
   ]
  },
  {
   "cell_type": "code",
   "execution_count": 37,
   "id": "7593f399",
   "metadata": {},
   "outputs": [
    {
     "name": "stdout",
     "output_type": "stream",
     "text": [
      "[[182  18]\n",
      " [176  24]]\n"
     ]
    }
   ],
   "source": [
    "from sklearn.metrics import confusion_matrix\n",
    "'''\n",
    "[[TP FN]\n",
    " [FP TN]]\n",
    "'''\n",
    "cm = confusion_matrix(df[\"Direção\"], df[\"Previsão\"], labels=[\"Aumento\", \"Diminuição\"])\n",
    "print(cm)"
   ]
  }
 ],
 "metadata": {
  "kernelspec": {
   "display_name": ".venv_temp",
   "language": "python",
   "name": "python3"
  },
  "language_info": {
   "codemirror_mode": {
    "name": "ipython",
    "version": 3
   },
   "file_extension": ".py",
   "mimetype": "text/x-python",
   "name": "python",
   "nbconvert_exporter": "python",
   "pygments_lexer": "ipython3",
   "version": "3.13.2"
  }
 },
 "nbformat": 4,
 "nbformat_minor": 5
}
