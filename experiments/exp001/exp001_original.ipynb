{
 "cells": [
  {
   "cell_type": "code",
   "execution_count": 1,
   "id": "0632e388",
   "metadata": {},
   "outputs": [
    {
     "name": "stdout",
     "output_type": "stream",
     "text": [
      "Prediction\n",
      "-1    240\n",
      " 0    136\n",
      " 1    124\n",
      "Name: count, dtype: int64 \n",
      "Total values: 500\n"
     ]
    }
   ],
   "source": [
    "import pandas as pd\n",
    "df = pd.read_csv(\"../../results/exp001/results_original.csv\")\n",
    "preds = df['Prediction']\n",
    "print(preds.value_counts(), '\\n' 'Total values: 'f'{preds.value_counts().sum()}')"
   ]
  },
  {
   "cell_type": "code",
   "execution_count": 2,
   "id": "6eeec4ca",
   "metadata": {},
   "outputs": [],
   "source": [
    "mapping = {1: 'Decrease', -1: 'Increase', 0: 'Stable'}\n",
    "df['Prediction'] = df['Prediction'].map(mapping)"
   ]
  },
  {
   "cell_type": "code",
   "execution_count": 3,
   "id": "e4e5f66d",
   "metadata": {},
   "outputs": [
    {
     "name": "stdout",
     "output_type": "stream",
     "text": [
      "\n",
      "Confusion Matrix:\n",
      "\n"
     ]
    },
    {
     "data": {
      "text/html": [
       "<div>\n",
       "<style scoped>\n",
       "    .dataframe tbody tr th:only-of-type {\n",
       "        vertical-align: middle;\n",
       "    }\n",
       "\n",
       "    .dataframe tbody tr th {\n",
       "        vertical-align: top;\n",
       "    }\n",
       "\n",
       "    .dataframe thead th {\n",
       "        text-align: right;\n",
       "    }\n",
       "</style>\n",
       "<table border=\"1\" class=\"dataframe\">\n",
       "  <thead>\n",
       "    <tr style=\"text-align: right;\">\n",
       "      <th></th>\n",
       "      <th>Predicted Increase</th>\n",
       "      <th>Predicted Decrease</th>\n",
       "      <th>Predicted Stable</th>\n",
       "    </tr>\n",
       "  </thead>\n",
       "  <tbody>\n",
       "    <tr>\n",
       "      <th>Actual Increase</th>\n",
       "      <td>108</td>\n",
       "      <td>47</td>\n",
       "      <td>59</td>\n",
       "    </tr>\n",
       "    <tr>\n",
       "      <th>Actual Decrease</th>\n",
       "      <td>69</td>\n",
       "      <td>41</td>\n",
       "      <td>45</td>\n",
       "    </tr>\n",
       "    <tr>\n",
       "      <th>Actual Stable</th>\n",
       "      <td>63</td>\n",
       "      <td>36</td>\n",
       "      <td>32</td>\n",
       "    </tr>\n",
       "  </tbody>\n",
       "</table>\n",
       "</div>"
      ],
      "text/plain": [
       "                 Predicted Increase  Predicted Decrease  Predicted Stable\n",
       "Actual Increase                 108                  47                59\n",
       "Actual Decrease                  69                  41                45\n",
       "Actual Stable                    63                  36                32"
      ]
     },
     "metadata": {},
     "output_type": "display_data"
    }
   ],
   "source": [
    "from sklearn.metrics import confusion_matrix\n",
    "import pandas as pd\n",
    "\n",
    "# Add \"Stable\" to your label set\n",
    "labels = [\"Increase\", \"Decrease\", \"Stable\"]\n",
    "\n",
    "# Compute confusion matrix\n",
    "cm = confusion_matrix(df[\"Direction\"], df[\"Prediction\"], labels=labels)\n",
    "\n",
    "# Format as DataFrame for display\n",
    "cm_df = pd.DataFrame(\n",
    "    cm,\n",
    "    index=[f\"Actual {label}\" for label in labels],\n",
    "    columns=[f\"Predicted {label}\" for label in labels]\n",
    ")\n",
    "\n",
    "print(\"\\nConfusion Matrix:\\n\")\n",
    "display(cm_df)"
   ]
  },
  {
   "cell_type": "code",
   "execution_count": 4,
   "id": "20ce7e87",
   "metadata": {},
   "outputs": [
    {
     "name": "stdout",
     "output_type": "stream",
     "text": [
      "\n",
      "Classification Report:\n",
      "\n",
      "              precision    recall  f1-score   support\n",
      "\n",
      "    Increase      0.450     0.505     0.476       214\n",
      "    Decrease      0.331     0.265     0.294       155\n",
      "      Stable      0.235     0.244     0.240       131\n",
      "\n",
      "    accuracy                          0.362       500\n",
      "   macro avg      0.339     0.338     0.336       500\n",
      "weighted avg      0.357     0.362     0.358       500\n",
      "\n"
     ]
    }
   ],
   "source": [
    "from sklearn.metrics import classification_report\n",
    "\n",
    "# Normalize predictions & directions for consistent casing\n",
    "df[\"Prediction\"] = df[\"Prediction\"].str.strip().str.capitalize()\n",
    "df[\"Direction\"] = df[\"Direction\"].str.strip().str.capitalize()\n",
    "\n",
    "# Report with Stable included\n",
    "report = classification_report(\n",
    "    df[\"Direction\"], \n",
    "    df[\"Prediction\"],\n",
    "    labels=[\"Increase\", \"Decrease\", \"Stable\"],   # include Stable\n",
    "    target_names=[\"Increase\", \"Decrease\", \"Stable\"],\n",
    "    digits=3\n",
    ")\n",
    "\n",
    "print(\"\\nClassification Report:\\n\")\n",
    "print(report)"
   ]
  }
 ],
 "metadata": {
  "kernelspec": {
   "display_name": "venv",
   "language": "python",
   "name": "python3"
  },
  "language_info": {
   "codemirror_mode": {
    "name": "ipython",
    "version": 3
   },
   "file_extension": ".py",
   "mimetype": "text/x-python",
   "name": "python",
   "nbconvert_exporter": "python",
   "pygments_lexer": "ipython3",
   "version": "3.13.2"
  }
 },
 "nbformat": 4,
 "nbformat_minor": 5
}
