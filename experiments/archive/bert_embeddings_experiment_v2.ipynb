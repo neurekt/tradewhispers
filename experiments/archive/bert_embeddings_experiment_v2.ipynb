{
 "cells": [
  {
   "cell_type": "markdown",
   "metadata": {},
   "source": [
    "# Trading Signal Generation with Sentiment Scores in Embedding Vectors"
   ]
  },
  {
   "cell_type": "markdown",
   "metadata": {},
   "source": [
    "## Setup"
   ]
  },
  {
   "cell_type": "code",
   "execution_count": null,
   "metadata": {},
   "outputs": [],
   "source": [
    "# -------------------- Core Libraries --------------------\n",
    "import os\n",
    "import re\n",
    "import pandas as pd\n",
    "import numpy as np\n",
    "import torch\n",
    "\n",
    "# -------------------- Text Processing --------------------\n",
    "import spacy\n",
    "from preprocessing import preprocess_text\n",
    "from transformers import (\n",
    "    AutoTokenizer,\n",
    "    AutoModel,\n",
    ")\n",
    "\n",
    "# -------------------- Machine Learning --------------------\n",
    "from sklearn.linear_model import LogisticRegression\n",
    "from sklearn.metrics import (\n",
    "    classification_report,\n",
    "    confusion_matrix,\n",
    ")\n",
    "\n",
    "# -------------------- Visualization --------------------\n",
    "import matplotlib.pyplot as plt\n",
    "import seaborn as sns\n",
    "from tqdm.notebook import tqdm  # Jupyter-native progress bars"
   ]
  },
  {
   "cell_type": "code",
   "execution_count": null,
   "metadata": {},
   "outputs": [],
   "source": [
    "# Change working directory to the root of the project\n",
    "project_root = os.path.abspath(os.path.join(os.getcwd(), '..'))\n",
    "os.chdir(project_root)"
   ]
  },
  {
   "cell_type": "markdown",
   "metadata": {},
   "source": [
    "## Preprocessing"
   ]
  },
  {
   "cell_type": "code",
   "execution_count": null,
   "metadata": {},
   "outputs": [],
   "source": [
    "january = \"data/processed/bdm/2024-01.csv\"\n",
    "with open(january, \"r\", encoding=\"utf-8\") as file:\n",
    "    df_jan = pd.read_csv(file)\n",
    "\n",
    "february = \"data/processed/bdm/2024-02.csv\"\n",
    "with open(february, \"r\", encoding=\"utf-8\") as file:\n",
    "    df_feb = pd.read_csv(file)\n",
    "\n",
    "march = \"data/processed/bdm/2024-03.csv\"\n",
    "with open(march, \"r\", encoding=\"utf-8\") as file:\n",
    "    df_march = pd.read_csv(file)"
   ]
  },
  {
   "cell_type": "code",
   "execution_count": null,
   "metadata": {},
   "outputs": [],
   "source": [
    "# -------------------- Preprocessing --------------------\n",
    "import re\n",
    "import spacy\n",
    "\n",
    "# Load spaCy Portuguese model once\n",
    "nlp = spacy.load(\"pt_core_news_sm\")\n",
    "\n",
    "# Dictionary for acronym expansion\n",
    "acronyms = {\n",
    "    \"Selic\": \"Sistema Especial de Liquidação e de Custódia\",\n",
    "    \"PIB\": \"Produto Interno Bruto\",\n",
    "    \"CDI\": \"Certificado de Depósito Interbancário\",\n",
    "    \"LPRs\": \"Loan Prime Rates\",\n",
    "    \"Ibovespa\": \"Índice Bovespa\",\n",
    "    \"BB\": \"Banco do Brasil\",\n",
    "    \"BC\": \"Banco Central\",\n",
    "    \"FGTS\": \"Fundo de Garantia do Tempo de Serviço\",\n",
    "    \"STF\": \"Supremo Tribunal Federal\",\n",
    "    \"CPI\": \"Índice de Preços ao Consumidor\",\n",
    "    \"MP\": \"Medida Provisória\",\n",
    "    \"EUA\": \"Estados Unidos\",\n",
    "    \"ONU\": \"Organização das Nações Unidas\",\n",
    "    \"FGV\": \"Fundação Getúlio Vargas\",\n",
    "    \"IBGE\": \"Instituto Brasileiro de Geografia e Estatística\",\n",
    "    \"BNDES\": \"Banco Nacional de Desenvolvimento Econômico e Social\",\n",
    "    \"IPCA\": \"Índice Nacional de Preços ao Consumidor Amplo\",\n",
    "    \"DI\": \"Depósito Interfinanceiro\",\n",
    "    \"IR\": \"Imposto de Renda\",\n",
    "    \"OI\": \"Operadora Oi\",\n",
    "    \"CV\": \"Câmara de Vereadores\"\n",
    "}\n",
    "\n",
    "# Noisy acronyms to remove\n",
    "noisy_acronyms = {\"ROMI\", \"ENEVA\", \"LIGHT\", \"DA\"}\n",
    "\n",
    "def normalize_numbers(text):\n",
    "    text = re.sub(r\"R\\$ ?([\\d.,]+) bilhões\", r\"\\1B\", text)\n",
    "    text = re.sub(r\"R\\$ ?([\\d.,]+) milhões\", r\"\\1M\", text)\n",
    "    text = re.sub(r\"([\\d.,]+) pp\", r\"\\1%\", text)\n",
    "    text = text.replace(\",\", \"\")\n",
    "    return text\n",
    "\n",
    "def expand_acronyms(text, acronym_dict):\n",
    "    for acronym, full_form in acronym_dict.items():\n",
    "        text = re.sub(rf'\\b{re.escape(acronym)}\\b', full_form, text, flags=re.IGNORECASE)\n",
    "    return text\n",
    "\n",
    "def remove_noisy_acronyms(text, noisy_set):\n",
    "    return re.sub(r'\\b(?:' + '|'.join(noisy_set) + r')\\b', '', text)\n",
    "\n",
    "def lemmatize_text(text):\n",
    "    doc = nlp(text)\n",
    "    return \" \".join([token.lemma_ for token in doc if not token.is_stop and token.is_alpha])\n",
    "\n",
    "def preprocess_text(text):\n",
    "    text = normalize_numbers(text)\n",
    "    text = expand_acronyms(text, acronyms)\n",
    "    text = remove_noisy_acronyms(text, noisy_acronyms)\n",
    "    text = lemmatize_text(text)\n",
    "    text = re.sub(r'\\s+', ' ', text).strip()\n",
    "    return text.lower()"
   ]
  },
  {
   "cell_type": "code",
   "execution_count": null,
   "metadata": {},
   "outputs": [],
   "source": [
    "# Apply preprocessing to the dataset\n",
    "df_jan['cleaned_article'] = df_jan['article'].apply(preprocess_text)\n",
    "df_feb['cleaned_article'] = df_feb['article'].apply(preprocess_text)\n",
    "df_march['cleaned_article'] = df_march['article'].apply(preprocess_text)"
   ]
  },
  {
   "cell_type": "markdown",
   "metadata": {},
   "source": [
    "## Data Exploration"
   ]
  },
  {
   "cell_type": "code",
   "execution_count": null,
   "metadata": {},
   "outputs": [],
   "source": [
    "sns.countplot(x='label', data=df_jan)\n",
    "plt.title('Label Distribution in January Dataset')\n",
    "plt.savefig(\"results/bert_embeddings_experiment_v2/figures/label_distribution_january.png\")\n",
    "plt.show()"
   ]
  },
  {
   "cell_type": "code",
   "execution_count": null,
   "metadata": {},
   "outputs": [],
   "source": [
    "sns.countplot(x='label', data=df_feb)\n",
    "plt.title('Label Distribution in February Dataset')\n",
    "plt.savefig(\"results/bert_embeddings_experiment_v2/figures/label_distribution_february.png\")\n",
    "plt.show()"
   ]
  },
  {
   "cell_type": "code",
   "execution_count": null,
   "metadata": {},
   "outputs": [],
   "source": [
    "sns.countplot(x='label', data=df_march)\n",
    "plt.title('Label Distribution in March Dataset')\n",
    "plt.savefig(\"results/bert_embeddings_experiment_v2/figures/label_distribution_march.png\")\n",
    "plt.show()"
   ]
  },
  {
   "cell_type": "markdown",
   "metadata": {},
   "source": [
    "## Generate Embeddings"
   ]
  },
  {
   "cell_type": "code",
   "execution_count": null,
   "metadata": {},
   "outputs": [],
   "source": [
    "# Load BERTimbau tokenizer and model\n",
    "tokenizer = AutoTokenizer.from_pretrained(\"neuralmind/bert-base-portuguese-cased\")\n",
    "model = AutoModel.from_pretrained(\"neuralmind/bert-base-portuguese-cased\")"
   ]
  },
  {
   "cell_type": "code",
   "execution_count": null,
   "metadata": {},
   "outputs": [],
   "source": [
    "def get_bert_embedding(text, tokenizer, model):\n",
    "    # tokenize input text\n",
    "    inputs = tokenizer(text, return_tensors=\"pt\", truncation=True, padding=True, max_length=128)\n",
    "\n",
    "    # pass inputs through model\n",
    "    with torch.no_grad():\n",
    "        outputs = model(**inputs)\n",
    "\n",
    "    # Extract [CLS] token embedding (shape: [batch_size, hidden_size])\n",
    "    cls_embedding = outputs.last_hidden_state[:, 0, :]  # [CLS] token is the first token\n",
    "    return cls_embedding.squeeze(0).numpy()  # convert to NumPy array"
   ]
  },
  {
   "cell_type": "code",
   "execution_count": null,
   "metadata": {},
   "outputs": [],
   "source": [
    "df_jan['embedding'] = df_jan['cleaned_article'].apply(lambda x: get_bert_embedding(x, tokenizer, model))\n",
    "df_feb['embedding'] = df_feb['cleaned_article'].apply(lambda x: get_bert_embedding(x, tokenizer, model))\n",
    "df_march['embedding'] = df_march['cleaned_article'].apply(lambda x: get_bert_embedding(x, tokenizer, model))"
   ]
  },
  {
   "cell_type": "markdown",
   "metadata": {},
   "source": [
    "## Generate Sentiment Analysis Labels"
   ]
  },
  {
   "cell_type": "code",
   "execution_count": null,
   "metadata": {},
   "outputs": [],
   "source": [
    "tokenizer = AutoTokenizer.from_pretrained(\"lucas-leme/FinBERT-PT-BR\")\n",
    "finbertptbr = BertForSequenceClassification.from_pretrained(\"lucas-leme/FinBERT-PT-BR\")"
   ]
  },
  {
   "cell_type": "code",
   "execution_count": null,
   "metadata": {},
   "outputs": [],
   "source": [
    "classification_mapper = {\n",
    "    0: 1,  # POSITIVE -> +1\n",
    "    1: -1, # NEGATIVE -> -1\n",
    "    2: 0   # NEUTRAL -> 0\n",
    "}"
   ]
  },
  {
   "cell_type": "code",
   "execution_count": null,
   "metadata": {},
   "outputs": [],
   "source": [
    "def classify_article(article):\n",
    "    try:\n",
    "        # Tokenize the article\n",
    "        tokens = tokenizer([article], return_tensors=\"pt\", padding=True, truncation=True, max_length=512)\n",
    "        # Get model outputs\n",
    "        outputs = finbertptbr(**tokens)\n",
    "        # Map predictions to classifications\n",
    "        pred_index = np.argmax(outputs.logits.cpu().detach().numpy(), axis=1)[0]\n",
    "        return classification_mapper[pred_index]\n",
    "    except Exception as e:\n",
    "        print(f\"Error processing article: {article} | Error: {e}\")\n",
    "        return None"
   ]
  },
  {
   "cell_type": "code",
   "execution_count": null,
   "metadata": {},
   "outputs": [],
   "source": [
    "# Apply the classification function to each DataFrame\n",
    "df_jan['classification'] = df_jan['cleaned_article'].apply(classify_article)\n",
    "df_feb['classification'] = df_feb['cleaned_article'].apply(classify_article)\n",
    "df_march['classification'] = df_march['cleaned_article'].apply(classify_article)"
   ]
  },
  {
   "cell_type": "code",
   "execution_count": null,
   "metadata": {},
   "outputs": [],
   "source": [
    "# Function to add classification to the embedding vector\n",
    "def augment_embedding_with_classification(row):\n",
    "    embedding = np.array(row['embedding'])  # Ensure embedding is a numpy array\n",
    "    classification = np.array([row['classification']])  # Convert classification to an array\n",
    "    return np.concatenate((embedding, classification))\n",
    "\n",
    "# Apply the function to augment embeddings with classification\n",
    "df_jan['embedding'] = df_jan.apply(augment_embedding_with_classification, axis=1)\n",
    "df_feb['embedding'] = df_feb.apply(augment_embedding_with_classification, axis=1)\n",
    "df_march['embedding'] = df_march.apply(augment_embedding_with_classification, axis=1)"
   ]
  },
  {
   "cell_type": "markdown",
   "metadata": {},
   "source": [
    "## Logistic Regression Classification"
   ]
  },
  {
   "cell_type": "code",
   "execution_count": null,
   "metadata": {},
   "outputs": [],
   "source": [
    "# Combine January and February data for training\n",
    "df_train_multi = pd.concat([df_jan, df_feb])\n",
    "X_train_multi = np.vstack(df_train_multi['embedding'].values)\n",
    "y_train_multi = df_train_multi['label']\n",
    "\n",
    "# multi classification and test on march\n",
    "X_test_multi = np.vstack(df_march['embedding'].values)\n",
    "y_test_multi = df_march['label']\n",
    "\n",
    "# binary Classification and test on march\n",
    "df_train_binary = df_train_multi[df_train_multi['label'] != 0]\n",
    "df_march_binary = df_march[df_march['label'] != 0]\n",
    "\n",
    "X_train_binary = np.vstack(df_train_binary['embedding'].values)\n",
    "y_train_binary = df_train_binary['label']\n",
    "\n",
    "X_test_binary = np.vstack(df_march_binary['embedding'].values)\n",
    "y_test_binary = df_march_binary['label']"
   ]
  },
  {
   "cell_type": "code",
   "execution_count": null,
   "metadata": {},
   "outputs": [],
   "source": [
    "# Train multi-class classifier\n",
    "multi_clf = LogisticRegression(max_iter=1000)\n",
    "multi_clf.fit(X_train_multi, y_train_multi)\n",
    "\n",
    "# Predict and evaluate\n",
    "y_pred_multi = multi_clf.predict(X_test_multi)\n",
    "print(\"Multi-Class Report:\\n\", classification_report(y_test_multi, y_pred_multi))"
   ]
  },
  {
   "cell_type": "code",
   "execution_count": null,
   "metadata": {},
   "outputs": [],
   "source": [
    "# Train binary classifier\n",
    "binary_clf = LogisticRegression(max_iter=1000)\n",
    "binary_clf.fit(X_train_binary, y_train_binary)\n",
    "\n",
    "# Predict and evaluate\n",
    "y_pred_binary = binary_clf.predict(X_test_binary)\n",
    "print(\"Binary Classification Report:\\n\", classification_report(y_test_binary, y_pred_binary))"
   ]
  },
  {
   "cell_type": "code",
   "execution_count": null,
   "metadata": {},
   "outputs": [],
   "source": [
    "results_dir = \"results/bert_embeddings_experiment_v2/metrics\"\n",
    "os.makedirs(results_dir, exist_ok=True)\n",
    "\n",
    "cm_multi = confusion_matrix(y_test_multi, y_pred_multi)\n",
    "class_report = classification_report(y_test_multi, y_pred_multi, target_names=[\"-1\", \"0\", \"1\"])\n",
    "\n",
    "report_path = os.path.join(results_dir, \"classification_report_multi.txt\")\n",
    "with open(report_path, \"w\") as f:\n",
    "    f.write(\"Classification Report:\\n\")\n",
    "    f.write(class_report)\n",
    "\n",
    "plt.figure(figsize=(8, 6))\n",
    "sns.heatmap(cm_multi, annot=True, fmt=\"d\", cmap=\"Blues\",\n",
    "            xticklabels=[\"-1\", \"0\", \"1\"], yticklabels=[\"-1\", \"0\", \"1\"])\n",
    "plt.xlabel(\"Predicted Labels\")\n",
    "plt.ylabel(\"True Labels\")\n",
    "plt.title(\"Multi-Class Confusion Matrix\")\n",
    "\n",
    "conf_matrix_path = os.path.join(results_dir, \"confusion_matrix_multi.png\")\n",
    "plt.savefig(conf_matrix_path)\n",
    "plt.close()\n",
    "\n",
    "print(f\"Classification report saved to: {report_path}\")\n",
    "print(f\"Confusion matrix saved to: {conf_matrix_path}\")"
   ]
  },
  {
   "cell_type": "code",
   "execution_count": null,
   "metadata": {},
   "outputs": [],
   "source": [
    "cm_binary = confusion_matrix(y_test_binary, y_pred_binary)\n",
    "class_report_binary = classification_report(y_test_binary, y_pred_binary, target_names=[\"-1\", \"1\"])\n",
    "\n",
    "report_path_binary = os.path.join(results_dir, \"classification_report_binary.txt\")\n",
    "with open(report_path_binary, \"w\") as f:\n",
    "    f.write(\"Classification Report (Binary):\\n\")\n",
    "    f.write(class_report_binary)\n",
    "\n",
    "plt.figure(figsize=(8, 6))\n",
    "sns.heatmap(cm_binary, annot=True, fmt=\"d\", cmap=\"Greens\", \n",
    "            xticklabels=[\"-1\", \"1\"], yticklabels=[\"-1\", \"1\"])\n",
    "plt.xlabel(\"Predicted Labels\")\n",
    "plt.ylabel(\"True Labels\")\n",
    "plt.title(\"Binary Confusion Matrix\")\n",
    "\n",
    "conf_matrix_path_binary = os.path.join(results_dir, \"confusion_matrix_binary.png\")\n",
    "plt.savefig(conf_matrix_path_binary)\n",
    "plt.close()\n",
    "\n",
    "print(f\"Binary classification report saved to: {report_path_binary}\")\n",
    "print(f\"Binary confusion matrix saved to: {conf_matrix_path_binary}\")"
   ]
  }
 ],
 "metadata": {
  "kernelspec": {
   "display_name": "venv",
   "language": "python",
   "name": "python3"
  },
  "language_info": {
   "codemirror_mode": {
    "name": "ipython",
    "version": 3
   },
   "file_extension": ".py",
   "mimetype": "text/x-python",
   "name": "python",
   "nbconvert_exporter": "python",
   "pygments_lexer": "ipython3",
   "version": "3.13.2"
  }
 },
 "nbformat": 4,
 "nbformat_minor": 2
}
