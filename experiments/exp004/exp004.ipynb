{
 "cells": [
  {
   "cell_type": "markdown",
   "id": "0a4ab881",
   "metadata": {},
   "source": [
    "### exp004 - fine-tuning LLaMA3.1 8b instruct w/ PEFT via ~3065 labeled headlines\n",
    "https://colab.research.google.com/drive/13S73CHubLU7n8V8GJsXseeWFnNwt1LpE?usp=drive_link"
   ]
  },
  {
   "cell_type": "code",
   "execution_count": null,
   "id": "04d7cd6d",
   "metadata": {},
   "outputs": [],
   "source": [
    "import pandas as pd\n",
    "from pathlib import Path\n",
    "import re\n",
    "\n",
    "def clean_prediction_text(text):\n",
    "    \"\"\"\n",
    "    Extracts the first valid label (Aumento or Diminuição) after the keyword 'assistant'.\n",
    "    Handles multiline and malformed text GRACEFULLY!!!\n",
    "    \"\"\"\n",
    "    text = str(text)\n",
    "\n",
    "    # if the string is already clean\n",
    "    if text.strip() in {\"Aumento\", \"Diminuição\"}:\n",
    "        return text.strip()\n",
    "\n",
    "    # Look for all valid labels following 'assistant' anywhere in the text\n",
    "    matches = re.findall(r'assistant.*?(Aumento|Diminuição)', text, flags=re.DOTALL)\n",
    "\n",
    "    # If found, return the first match\n",
    "    if matches:\n",
    "        return matches[0]\n",
    "\n",
    "    # Fallback: if 'assistant' is missing, try to match label at start\n",
    "    match = re.match(r'\\s*(Aumento|Diminuição)', text)\n",
    "    if match:\n",
    "        return match.group(1)\n",
    "\n",
    "    return None  # or return 'UNKNOWN' if to mark it explicitly\n",
    "\n",
    "def clean_predictions_csv(file_path: str):\n",
    "    df = pd.read_csv(file_path)\n",
    "    df['Prediction'] = df['Prediction'].apply(clean_prediction_text)\n",
    "    df = df[df['Prediction'].isin(['Aumento', 'Diminuição'])] # filter out rows IF label wasn't found (didn't happen which is good)\n",
    "\n",
    "    original_path = Path(file_path)\n",
    "    new_name = original_path.name.replace(\"original\", \"\").replace(\"--\", \"-\").strip(\"-_\")\n",
    "    new_path = original_path.with_name(new_name)\n",
    "\n",
    "    df.to_csv(file_path, index=False)\n",
    "\n",
    "# clean the preds\n",
    "clean_predictions_csv(\"../../results/exp004/predictions-original.csv\")"
   ]
  },
  {
   "cell_type": "code",
   "execution_count": null,
   "id": "486eed1f",
   "metadata": {},
   "outputs": [],
   "source": [
    "df = pd.read_csv(\"../../results/exp004/predictions.csv\")"
   ]
  },
  {
   "cell_type": "code",
   "execution_count": 3,
   "id": "5c4f3b4a",
   "metadata": {},
   "outputs": [
    {
     "name": "stdout",
     "output_type": "stream",
     "text": [
      "[[200   0]\n",
      " [  0 200]]\n"
     ]
    }
   ],
   "source": [
    "from sklearn.metrics import confusion_matrix\n",
    "'''\n",
    "[[TP FN]\n",
    " [FP TN]]\n",
    "'''\n",
    "cm = confusion_matrix(df[\"Direção\"], df[\"Prediction\"], labels=[\"Aumento\", \"Diminuição\"])\n",
    "print(cm)"
   ]
  },
  {
   "cell_type": "code",
   "execution_count": null,
   "id": "4ee5dcca",
   "metadata": {},
   "outputs": [
    {
     "name": "stdout",
     "output_type": "stream",
     "text": [
      "\n",
      "Classification Report:\n",
      "\n",
      "              precision    recall  f1-score   support\n",
      "\n",
      "     Aumento      1.000     1.000     1.000       200\n",
      "  Diminuição      1.000     1.000     1.000       200\n",
      "\n",
      "    accuracy                          1.000       400\n",
      "   macro avg      1.000     1.000     1.000       400\n",
      "weighted avg      1.000     1.000     1.000       400\n",
      "\n"
     ]
    }
   ],
   "source": [
    "from sklearn.metrics import classification_report\n",
    "import pandas as pd\n",
    "\n",
    "# Normalize predictions (just in case)\n",
    "df[\"Prediction\"] = df[\"Prediction\"].str.strip().str.capitalize()\n",
    "df[\"Direção\"] = df[\"Direção\"].str.strip().str.capitalize()\n",
    "\n",
    "# Report\n",
    "report = classification_report(\n",
    "    df[\"Direção\"], df[\"Prediction\"],\n",
    "    labels=[\"Aumento\", \"Diminuição\"],\n",
    "    target_names=[\"Aumento\", \"Diminuição\"],\n",
    "    digits=3\n",
    ")\n",
    "\n",
    "print(\"\\nClassification Report:\\n\")\n",
    "print(report)"
   ]
  },
  {
   "cell_type": "markdown",
   "id": "d8c139d7",
   "metadata": {},
   "source": [
    "## Check for Data Leakage"
   ]
  },
  {
   "cell_type": "code",
   "execution_count": null,
   "id": "90eff65b",
   "metadata": {},
   "outputs": [
    {
     "name": "stdout",
     "output_type": "stream",
     "text": [
      "Number of overlapping rows: 3\n"
     ]
    },
    {
     "data": {
      "text/html": [
       "<div>\n",
       "<style scoped>\n",
       "    .dataframe tbody tr th:only-of-type {\n",
       "        vertical-align: middle;\n",
       "    }\n",
       "\n",
       "    .dataframe tbody tr th {\n",
       "        vertical-align: top;\n",
       "    }\n",
       "\n",
       "    .dataframe thead th {\n",
       "        text-align: right;\n",
       "    }\n",
       "</style>\n",
       "<table border=\"1\" class=\"dataframe\">\n",
       "  <thead>\n",
       "    <tr style=\"text-align: right;\">\n",
       "      <th></th>\n",
       "      <th>DataHora</th>\n",
       "      <th>Manchete</th>\n",
       "      <th>Direção_x</th>\n",
       "      <th>Direção_y</th>\n",
       "    </tr>\n",
       "  </thead>\n",
       "  <tbody>\n",
       "    <tr>\n",
       "      <th>0</th>\n",
       "      <td>2024-11-26 10:02:00</td>\n",
       "      <td>Reação ao IPCA-15</td>\n",
       "      <td>Aumento</td>\n",
       "      <td>Aumento</td>\n",
       "    </tr>\n",
       "    <tr>\n",
       "      <th>1</th>\n",
       "      <td>2024-12-06 12:54:00</td>\n",
       "      <td>Fed/Goolsbee: Inflação cai, mas se estabilizar...</td>\n",
       "      <td>Diminuição</td>\n",
       "      <td>Diminuição</td>\n",
       "    </tr>\n",
       "    <tr>\n",
       "      <th>2</th>\n",
       "      <td>2024-11-28 09:02:00</td>\n",
       "      <td>Com essa fórmula de cálculo, a suposta renúnci...</td>\n",
       "      <td>Diminuição</td>\n",
       "      <td>Diminuição</td>\n",
       "    </tr>\n",
       "  </tbody>\n",
       "</table>\n",
       "</div>"
      ],
      "text/plain": [
       "              DataHora                                           Manchete  \\\n",
       "0  2024-11-26 10:02:00                                  Reação ao IPCA-15   \n",
       "1  2024-12-06 12:54:00  Fed/Goolsbee: Inflação cai, mas se estabilizar...   \n",
       "2  2024-11-28 09:02:00  Com essa fórmula de cálculo, a suposta renúnci...   \n",
       "\n",
       "    Direção_x   Direção_y  \n",
       "0     Aumento     Aumento  \n",
       "1  Diminuição  Diminuição  \n",
       "2  Diminuição  Diminuição  "
      ]
     },
     "metadata": {},
     "output_type": "display_data"
    }
   ],
   "source": [
    "import pandas as pd\n",
    "\n",
    "test_df = pd.read_csv(\"../../data/processed/bdm-corpus-2/stage-3/test.csv\")\n",
    "train_df = pd.read_csv(\"../../data/processed/bdm-corpus-2/stage-3/train.csv\")\n",
    "\n",
    "# Find matching rows based on both columns\n",
    "matching_rows = pd.merge(test_df, train_df, on=[\"DataHora\", \"Manchete\"], how=\"inner\")\n",
    "\n",
    "# Print number of matches\n",
    "print(f\"Number of overlapping rows: {len(matching_rows)}\")\n",
    "display(matching_rows[\"DataHora\"])"
   ]
  }
 ],
 "metadata": {
  "kernelspec": {
   "display_name": ".venv_temp",
   "language": "python",
   "name": "python3"
  },
  "language_info": {
   "codemirror_mode": {
    "name": "ipython",
    "version": 3
   },
   "file_extension": ".py",
   "mimetype": "text/x-python",
   "name": "python",
   "nbconvert_exporter": "python",
   "pygments_lexer": "ipython3",
   "version": "3.13.2"
  }
 },
 "nbformat": 4,
 "nbformat_minor": 5
}
