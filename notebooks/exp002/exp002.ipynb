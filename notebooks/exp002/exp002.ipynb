{
 "cells": [
  {
   "cell_type": "code",
   "execution_count": null,
   "id": "bf71554f",
   "metadata": {},
   "outputs": [],
   "source": [
    "import pandas as pd\n",
    "import tradewhispers as tw\n",
    "\n",
    "stage4 = pd.read_csv(\"../data/interim/bdm-corpus-2/stage-4.csv\")\n",
    "results_original = tw.map_predictions(pd.read_csv(\"../results/exp002/results_original.csv\"))\n",
    "results_filtered = tw.map_predictions(pd.read_csv(\"../results/exp002/results_filtered.csv\"))"
   ]
  },
  {
   "cell_type": "code",
   "execution_count": null,
   "id": "f82bac5d",
   "metadata": {},
   "outputs": [],
   "source": [
    "print(\"\\n==== Evaluation (Filtered) ====\")\n",
    "tw.evaluate(stage4, results_filtered, horizons=range(1, 21), threshold_pips=1, filtered=True)"
   ]
  },
  {
   "cell_type": "code",
   "execution_count": null,
   "id": "6fe99404",
   "metadata": {},
   "outputs": [],
   "source": [
    "print(\"\\n==== Evaluation (Original) ====\")\n",
    "tw.evaluate(stage4, results_original, horizons=range(1, 21), threshold_pips=25)"
   ]
  }
 ],
 "metadata": {
  "kernelspec": {
   "display_name": "venv",
   "language": "python",
   "name": "python3"
  },
  "language_info": {
   "codemirror_mode": {
    "name": "ipython",
    "version": 3
   },
   "file_extension": ".py",
   "mimetype": "text/x-python",
   "name": "python",
   "nbconvert_exporter": "python",
   "pygments_lexer": "ipython3",
   "version": "3.13.2"
  }
 },
 "nbformat": 4,
 "nbformat_minor": 5
}
